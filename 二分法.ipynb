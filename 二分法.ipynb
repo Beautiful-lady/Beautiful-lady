{
 "cells": [
  {
   "cell_type": "markdown",
   "metadata": {},
   "source": [
    "二分法一般用于排好序的数组"
   ]
  },
  {
   "cell_type": "markdown",
   "metadata": {},
   "source": [
    "### Leetcode 704: 二分查找\n",
    "\n",
    "给定一个`n`个元素有序的（升序）整型数组`nums`和一个目标值`target`，写一个函数搜索`nums`中的`target`，如果目标值存在返回下标，否则返回`-1`\n",
    "\n",
    "时间复杂度: `O(logN)`, 空间复杂度: `O(1)`."
   ]
  },
  {
   "cell_type": "code",
   "execution_count": null,
   "metadata": {},
   "outputs": [],
   "source": [
    "class Solution:\n",
    "    def search(self, nums: List[int], target: int) -> int:\n",
    "        left, right = 0, len(nums)-1\n",
    "\n",
    "        while left <= right:\n",
    "            mid = (left+right) // 2\n",
    "            if nums[mid] <= target:\n",
    "                left = mid + 1\n",
    "            if nums[mid] > target:\n",
    "                right = mid - 1\n",
    "        \n",
    "        return right if nums[right] == target else -1"
   ]
  },
  {
   "cell_type": "markdown",
   "metadata": {},
   "source": [
    "### Leetcode 35: 搜索插入位置\n",
    "\n",
    "给定一个排序数组和一个目标值，在数组中找到目标值，并返回其索引。如果目标值不存在于数组中，返回它将会被按顺序插入的位置。\n",
    "请必须使用时间复杂度为`O(log n)`的算法。\n",
    "\n",
    "时间/空间复杂度同上"
   ]
  },
  {
   "cell_type": "code",
   "execution_count": null,
   "metadata": {},
   "outputs": [],
   "source": [
    "class Solution:\n",
    "    def searchInsert(self, nums: List[int], target: int) -> int:\n",
    "        left, right = 0, len(nums)-1\n",
    "\n",
    "        while left <= right:\n",
    "            mid = (left+right) // 2\n",
    "            if nums[mid] <= target:\n",
    "                left = mid + 1\n",
    "            else:\n",
    "                right = mid - 1\n",
    "\n",
    "        return right if nums[right] == target else right + 1"
   ]
  },
  {
   "cell_type": "markdown",
   "metadata": {},
   "source": [
    "### Leetcode 69: `x`的平方根\n",
    "\n",
    "给你一个非负整数`x`，计算并返回`x`的 算术平方根 。\n",
    "由于返回类型是整数，结果只保留 整数部分 ，小数部分将被 舍去 \n",
    "\n",
    "时间复杂度： `O(logx)`; 空间复杂度: `O(1)`"
   ]
  },
  {
   "cell_type": "code",
   "execution_count": null,
   "metadata": {},
   "outputs": [],
   "source": [
    "class Solution:\n",
    "    def mySqrt(self, x: int) -> int:\n",
    "        if x <= 1: return x\n",
    "        \n",
    "        left, right = 1, x\n",
    "\n",
    "        while left <= right:\n",
    "            mid = int(left + (right-left)/2)\n",
    "            sqrt = int(x / mid)\n",
    "            if sqrt == mid:\n",
    "                return mid\n",
    "            if sqrt < mid:\n",
    "                right = mid - 1\n",
    "            if sqrt > mid:\n",
    "                left = mid + 1\n",
    "\n",
    "        return right"
   ]
  },
  {
   "cell_type": "markdown",
   "metadata": {},
   "source": [
    "效率高很多， 也更好理解。 这道题本质上是找满足ans的平方满足它小于等于x的最大ans值。"
   ]
  },
  {
   "cell_type": "code",
   "execution_count": 9,
   "metadata": {},
   "outputs": [],
   "source": [
    "class Solution:\n",
    "    def mySqrt(self, x: int) -> int:\n",
    "        l, r, ans = 0, x, -1\n",
    "        while l <= r:\n",
    "            mid = (l + r) // 2  # 取 商的整数部分\n",
    "            if mid * mid <= x:\n",
    "                ans = mid\n",
    "                l = mid + 1\n",
    "            else:\n",
    "                r = mid - 1\n",
    "        return ans"
   ]
  },
  {
   "cell_type": "markdown",
   "metadata": {},
   "source": [
    "### Leetcode 34: 在排序数组中查找元素的第一个和最后一个位置\n",
    "\n",
    "给定一个按照升序排列的整数数组`nums`，和一个目标值`target`。找出给定目标值在数组中的开始位置和结束位置。\n",
    "\n",
    "如果数组中不存在目标值`target`，返回`[-1, -1]`。\n",
    "\n",
    "时间复杂度: `O(logN)`, 空间复杂度: `O(1)`"
   ]
  },
  {
   "cell_type": "code",
   "execution_count": 1,
   "metadata": {},
   "outputs": [],
   "source": [
    "class Solution:\n",
    "    def searchRange(self, nums, target):\n",
    "        if not nums: return [-1, -1]\n",
    "\n",
    "        def lower_bound(nums, target):\n",
    "            left, right = 0, len(nums)-1\n",
    "            while left <= right:\n",
    "                mid = (left+right) // 2\n",
    "                if nums[mid] < target: # 左指针 会一直在一个比较保险的位置 到了target的最左边就不再动了\n",
    "                    left = mid + 1\n",
    "                if nums[mid] >= target: # 右指针 会在某一个点越过 左指针 \n",
    "                    right = mid - 1\n",
    "            return left\n",
    "\n",
    "        def higher_bound(nums, target):\n",
    "            left, right = 0, len(nums)-1\n",
    "            while left <= right:\n",
    "                mid = (left+right) // 2\n",
    "                if nums[mid] <= target: # 左指针 会在某一个点越过 右指针 \n",
    "                    left = mid + 1\n",
    "                if nums[mid] > target: # 右指针 会一直在一个比较保险的位置 到了target的最右边就不再动了\n",
    "                    right = mid - 1\n",
    "            return right\n",
    "\n",
    "        left_idx = lower_bound(nums, target)\n",
    "        right_idx = higher_bound(nums, target)\n",
    "        \n",
    "        # 条件1：排除target大于max(nums)的情况 条件2：排除target小于min(nums)或 <max(nums) & >min(nums)的情况\n",
    "        return [-1, -1] if left_idx == len(nums) or nums[left_idx] != target else [left_idx, right_idx]"
   ]
  },
  {
   "cell_type": "markdown",
   "metadata": {},
   "source": [
    "### Leetcode 162: 寻找峰值\n",
    "\n",
    "峰值元素是指其值严格大于左右相邻值的元素。给你一个整数数组`nums`，找到峰值元素并返回其索引。数组可能包含多个峰值，在这种情况下，返回 任何一个峰值 所在位置即可。\n",
    "\n",
    "你可以假设`nums[-1] = nums[n] = -∞`。**(这里的`-1`指的是左边界之前的值，与python中-1索引的含义不同)**\n",
    "\n",
    "你必须实现时间复杂度为`O(log n)`的算法来解决此问题。"
   ]
  },
  {
   "cell_type": "code",
   "execution_count": null,
   "metadata": {},
   "outputs": [],
   "source": [
    "# 这道题的关键条件是 nums[-1] = nums[n] = -∞\n",
    "# 这就说明只要是沿着上坡走就一定能找到峰值\n",
    "\n",
    "class Solution:\n",
    "    def findPeakElement(self, nums: List[int]) -> int:\n",
    "        left, right = 0, len(nums)-1\n",
    "\n",
    "        def value(index): \n",
    "            if index <= -1 or index >= len(nums):\n",
    "                return -float('inf')\n",
    "            return nums[index]\n",
    "\n",
    "        while left <= right:\n",
    "            mid = (left+right) // 2\n",
    "            if value(mid) > value(mid-1) and value(mid) > value(mid+1):\n",
    "                return mid\n",
    "            if value(mid) < value(mid-1): # 走下坡， 峰值在左侧\n",
    "                right = mid -1\n",
    "            else:                         # 走上坡， 峰值在右侧 & 在谷底，峰值左右都有\n",
    "                left = mid + 1"
   ]
  },
  {
   "cell_type": "code",
   "execution_count": null,
   "metadata": {},
   "outputs": [],
   "source": []
  },
  {
   "cell_type": "code",
   "execution_count": null,
   "metadata": {},
   "outputs": [],
   "source": []
  },
  {
   "cell_type": "code",
   "execution_count": null,
   "metadata": {},
   "outputs": [],
   "source": []
  },
  {
   "cell_type": "code",
   "execution_count": null,
   "metadata": {},
   "outputs": [],
   "source": []
  }
 ],
 "metadata": {
  "kernelspec": {
   "display_name": "Python 3",
   "language": "python",
   "name": "python3"
  },
  "language_info": {
   "codemirror_mode": {
    "name": "ipython",
    "version": 3
   },
   "file_extension": ".py",
   "mimetype": "text/x-python",
   "name": "python",
   "nbconvert_exporter": "python",
   "pygments_lexer": "ipython3",
   "version": "3.8.3"
  },
  "toc": {
   "base_numbering": 1,
   "nav_menu": {},
   "number_sections": true,
   "sideBar": true,
   "skip_h1_title": false,
   "title_cell": "Table of Contents",
   "title_sidebar": "Contents",
   "toc_cell": false,
   "toc_position": {},
   "toc_section_display": true,
   "toc_window_display": false
  }
 },
 "nbformat": 4,
 "nbformat_minor": 4
}
