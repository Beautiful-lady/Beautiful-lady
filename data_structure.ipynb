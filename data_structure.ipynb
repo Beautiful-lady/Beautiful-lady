{
 "cells": [
  {
   "cell_type": "markdown",
   "metadata": {},
   "source": [
    "# 数据结构 - 数组\n",
    "### Leetcode 485： 计算1的数量\n",
    "\n",
    "给定一个二进制数组， 计算其中最大连续 1 的个数。\n",
    "* 输入的数组只包含 `0` 和 `1`\n",
    "* 输入数组的长度是正整数，且不超过 10,000"
   ]
  },
  {
   "cell_type": "code",
   "execution_count": 19,
   "metadata": {},
   "outputs": [
    {
     "data": {
      "text/plain": [
       "'\\n# A better one\\nclass Solution:\\n    def findMaxConsecutiveOnes(self, nums: List[int]) -> int:\\n        if nums is None or len(nums) == 0: #先考虑极端情况\\n            return 0\\n        counter = 0; result = 0\\n        for i in nums:\\n            if i == 1: counter += 1; result = max(counter, result)\\n            # 保证 result 是当前最大的counter  所以不能是 result = counter\\n            if i == 0: counter = 0\\n        return result\\n'"
      ]
     },
     "execution_count": 19,
     "metadata": {},
     "output_type": "execute_result"
    }
   ],
   "source": [
    "from typing import List\n",
    "\n",
    "# 时间复杂度：O(n); 空间复杂度：O(1)\n",
    "class Solution:\n",
    "    def findMaxConsecutiveOnes(self, nums: List[int]) -> int:\n",
    "        if nums is None or len(nums) == 0: #先考虑极端情况\n",
    "            return 0\n",
    "        counter = 0; result = 0\n",
    "        for i in nums:\n",
    "            if i == 1: counter += 1\n",
    "            # 保证 result 是当前最大的counter  所以不能是 result = counter\n",
    "            if i == 0: result = max(counter, result); counter = 0\n",
    "        return max(counter, result)\n",
    "        # 不能 return result, 因为[1,1,0,1,1,1], r=2, c=3\n",
    "\n",
    "# A better one\n",
    "class Solution:\n",
    "    def findMaxConsecutiveOnes(self, nums: List[int]) -> int:\n",
    "        if nums is None or len(nums) == 0: #先考虑极端情况\n",
    "            return 0\n",
    "        counter = 0; result = 0\n",
    "        for i in nums:\n",
    "            if i == 1: counter += 1; result = max(counter, result)\n",
    "            # 保证 result 是当前最大的counter  所以不能是 result = counter\n",
    "            if i == 0: counter = 0\n",
    "        return result\n"
   ]
  },
  {
   "cell_type": "code",
   "execution_count": 21,
   "metadata": {},
   "outputs": [
    {
     "data": {
      "text/plain": [
       "3"
      ]
     },
     "execution_count": 21,
     "metadata": {},
     "output_type": "execute_result"
    }
   ],
   "source": [
    "a = Solution()\n",
    "a.findMaxConsecutiveOnes([1,1,0,1,1,1])"
   ]
  },
  {
   "cell_type": "markdown",
   "metadata": {},
   "source": [
    "### Leetcode 283： 移动0\n",
    "\n",
    "给定一个数组`nums`，编写一个函数将所有`0`移动到数组的末尾，同时保持非零元素的相对顺序。\n",
    "* 必须在原数组上操作，不能拷贝额外的数组。\n",
    "* 尽量减少操作次数。"
   ]
  },
  {
   "cell_type": "code",
   "execution_count": 75,
   "metadata": {},
   "outputs": [],
   "source": [
    "# 简洁但低效：\n",
    "class Solution:\n",
    "    #TC: O(N^2)\n",
    "    #SC: O(1)\n",
    "    def moveZeroes(self, nums: List[int]) -> None:\n",
    "        \"\"\"\n",
    "        Do not return anything, modify nums in-place instead.\n",
    "        \"\"\"\n",
    "        for i in range(nums.count(0)):\n",
    "            nums.remove(0)\n",
    "            nums.append(0)\n",
    "            \n",
    "# my answer: better than 60%, 中间产生的新数组\n",
    "class Solution:\n",
    "    # TC: O(N)\n",
    "    # SC: O(N)\n",
    "    def moveZeroes(self, nums: List[int]) -> None:\n",
    "        \"\"\"\n",
    "        Do not return anything, modify nums in-place instead.\n",
    "        \"\"\"\n",
    "        zero_count = nums.count(0)\n",
    "        temp = [n for n in nums if n != 0]\n",
    "        nums[:] = temp + [0] * zero_count\n",
    "\n",
    "# The best!!! 超过98% - 100%\n",
    "class Solution:\n",
    "    # TC: O(N)\n",
    "    # SC: O(1)\n",
    "    def moveZeroes(self, nums: List[int]) -> None:\n",
    "        \"\"\"\n",
    "        Do not return anything, modify nums in-place instead.\n",
    "        \"\"\"\n",
    "        index = 0\n",
    "        length = len(nums)\n",
    "        for n in nums:\n",
    "            if n != 0: \n",
    "                nums[index] = n\n",
    "                index = index + 1\n",
    "        if index < length: #说明nums里面有 0     nums[-zero_count:] = 0 不可以，没有考虑到数组中没0的情况\n",
    "            for i in range(index, length):\n",
    "                nums[i] = 0"
   ]
  },
  {
   "cell_type": "markdown",
   "metadata": {},
   "source": [
    "### Leetcode 27 - 移除元素\n",
    "给你一个数组`nums`和一个值`val`，你需要 原地 移除所有数值等于`val`的元素，并返回移除后数组的新长度。\n",
    "\n",
    "不要使用额外的数组空间，你必须仅使用`O(1)`额外空间并 原地 修改输入数组。\n",
    "\n",
    "元素的顺序可以改变。你不需要考虑数组中超出新长度后面的元素"
   ]
  },
  {
   "cell_type": "code",
   "execution_count": 98,
   "metadata": {},
   "outputs": [],
   "source": [
    "class Solution: #78%\n",
    "    def removeElement(self, nums: List[int], val: int) -> int:\n",
    "        # TC: O(N^2)\n",
    "        # SC: O(1)\n",
    "        counts = nums.count(val)\n",
    "        for c in range(counts):\n",
    "            nums.remove(val)\n",
    "        return len(nums)\n",
    "    \n",
    "class Solution:  # 68%\n",
    "    def removeElement(self, nums: List[int], val: int) -> int:\n",
    "        # TC: O(N)\n",
    "        # SC: O(1)\n",
    "        index = 0\n",
    "        for n in nums:\n",
    "            if n != val:\n",
    "                nums[index] = n\n",
    "                index += 1\n",
    "        return index"
   ]
  },
  {
   "cell_type": "markdown",
   "metadata": {},
   "source": [
    "**！！！双指针算法！！！**"
   ]
  },
  {
   "cell_type": "code",
   "execution_count": 130,
   "metadata": {},
   "outputs": [],
   "source": [
    "# 正确 98%\n",
    "class Solution:\n",
    "    def removeElement(self, nums: List[int], val: int) -> int:\n",
    "        # TC: O(N)\n",
    "        # SC: O(1)\n",
    "        if nums is None or len(nums) == 0:\n",
    "            return 0\n",
    "        left = 0; right = len(nums) - 1\n",
    "        while left < right:\n",
    "            while (nums[left] != val and left < right):\n",
    "                left += 1\n",
    "            while (nums[right] == val and left < right):\n",
    "                right -= 1\n",
    "\n",
    "            nums[left], nums[right] = nums[right], nums[left]\n",
    "        return left if nums[left]==val else left+1"
   ]
  },
  {
   "cell_type": "code",
   "execution_count": 139,
   "metadata": {},
   "outputs": [],
   "source": [
    "# 我的错误解法 \n",
    "class Solution:\n",
    "    def removeElement(self, nums: List[int], val: int) -> int:\n",
    "        if nums is None or len(nums) == 0:\n",
    "            return 0\n",
    "        left = 0; right = len(nums) - 1\n",
    "        while left < right:\n",
    "            if nums[left] != val:\n",
    "                left += 1\n",
    "            if nums[right] == val:\n",
    "                right -= 1\n",
    "            nums[left], nums[right] = nums[right], nums[left]\n",
    "        \n",
    "        # 这里如果数组里面的全部元素都需要remove, 就不行了。比如[1,1,1,1], 1. 应该输出0，但实际输出1\n",
    "        return left+1 if left == right else left"
   ]
  },
  {
   "cell_type": "code",
   "execution_count": 144,
   "metadata": {},
   "outputs": [],
   "source": [
    "# 错误2\n",
    "class Solution:\n",
    "    def removeElement(self, nums: List[int], val: int) -> int:\n",
    "        if nums is None or len(nums) == 0:\n",
    "            return 0\n",
    "        left = 0; right = len(nums) - 1\n",
    "        while left < right:\n",
    "            if nums[left] != val:  \n",
    "                left += 1\n",
    "                \n",
    "            # 必须再次限定 left < right， 反例：[4,5] 4, 交换之后因为没有限定所以多走了一次, 这时left=right\n",
    "            if nums[right] == val: \n",
    "                right -= 1\n",
    "            nums[left], nums[right] = nums[right], nums[left]\n",
    "            \n",
    "        return left if nums[left]==val else left+1"
   ]
  },
  {
   "cell_type": "code",
   "execution_count": 145,
   "metadata": {},
   "outputs": [
    {
     "data": {
      "text/plain": [
       "1"
      ]
     },
     "execution_count": 145,
     "metadata": {},
     "output_type": "execute_result"
    }
   ],
   "source": [
    "a = Solution()\n",
    "a.removeElement([4,5], 4)"
   ]
  },
  {
   "cell_type": "markdown",
   "metadata": {},
   "source": [
    "# 数据结构 - 链表\n",
    "\n",
    "## 链表的常用操作"
   ]
  },
  {
   "cell_type": "code",
   "execution_count": 6,
   "metadata": {},
   "outputs": [
    {
     "name": "stdout",
     "output_type": "stream",
     "text": [
      "deque([1, 2, 3])\n"
     ]
    }
   ],
   "source": [
    "from collections import deque\n",
    "\n",
    "# 创建链表\n",
    "linkedlist = deque()\n",
    "\n",
    "# add at the end, TC: O(1)\n",
    "linkedlist.append(1) \n",
    "linkedlist.append(2)\n",
    "linkedlist.append(3)\n",
    "print(linkedlist)"
   ]
  },
  {
   "cell_type": "code",
   "execution_count": 12,
   "metadata": {},
   "outputs": [
    {
     "name": "stdout",
     "output_type": "stream",
     "text": [
      "deque([1, 2, 99, 3])\n"
     ]
    }
   ],
   "source": [
    "# Insert, TC: O(N)\n",
    "linkedlist.insert(2, 99)  # insert 99 in the location of 2\n",
    "print(linkedlist)"
   ]
  },
  {
   "cell_type": "code",
   "execution_count": 8,
   "metadata": {},
   "outputs": [
    {
     "name": "stdout",
     "output_type": "stream",
     "text": [
      "99\n"
     ]
    }
   ],
   "source": [
    "# access element, TC: O(N)\n",
    "print(linkedlist[2])"
   ]
  },
  {
   "cell_type": "code",
   "execution_count": 9,
   "metadata": {},
   "outputs": [
    {
     "name": "stdout",
     "output_type": "stream",
     "text": [
      "2\n"
     ]
    }
   ],
   "source": [
    "# search, TC: O(N)\n",
    "print(linkedlist.index(99)) # 返回访问元素的索引"
   ]
  },
  {
   "cell_type": "code",
   "execution_count": 13,
   "metadata": {},
   "outputs": [
    {
     "name": "stdout",
     "output_type": "stream",
     "text": [
      "deque([1, 2, 88, 3])\n"
     ]
    }
   ],
   "source": [
    "# update, TC: O(N)\n",
    "linkedlist[2] = 88\n",
    "print(linkedlist)"
   ]
  },
  {
   "cell_type": "code",
   "execution_count": 14,
   "metadata": {},
   "outputs": [],
   "source": [
    "# remove, TC: O(N)\n",
    "#del linkedlist[2]\n",
    "linkedlist.remove(88)"
   ]
  },
  {
   "cell_type": "code",
   "execution_count": 15,
   "metadata": {},
   "outputs": [
    {
     "name": "stdout",
     "output_type": "stream",
     "text": [
      "3\n"
     ]
    }
   ],
   "source": [
    "# length, TC: O(1)\n",
    "print(len(linkedlist))"
   ]
  },
  {
   "cell_type": "markdown",
   "metadata": {},
   "source": [
    "## 链表对应题目\n",
    "\n",
    "### Leetcode 203: 移除链表元素\n",
    "\n",
    "给你一个链表的头节点`head`和一个整数`val`，请你删除链表中所有满足`Node.val == val`的节点，并返回新的头节点 。"
   ]
  },
  {
   "cell_type": "code",
   "execution_count": 65,
   "metadata": {},
   "outputs": [],
   "source": [
    "# Definition for singly-linked list.\n",
    "class ListNode:\n",
    "    def __init__(self, val=0, next=None):\n",
    "        self.val = val\n",
    "        self.next = next\n",
    "        \n",
    "class Solution:\n",
    "    def removeElements(self, head: ListNode, val: int) -> ListNode:\n",
    "        # TC: O(N)\n",
    "        # SC: O(1)\n",
    "        dummy = ListNode('d', head)\n",
    "        pre = dummy\n",
    "        while head is not None: # 说明此时还没有遍历完链表\n",
    "            if head.val == val:\n",
    "                pre.next = head.next\n",
    "            else:\n",
    "                pre = head\n",
    "            head = head.next  # 本地报错，因为head.next是int, 不是class\n",
    "        return dummy.next"
   ]
  },
  {
   "cell_type": "markdown",
   "metadata": {},
   "source": [
    "### Leetcode 206: 反转链表\n",
    "\n",
    "给你单链表的头节点`head`，请你反转链表，并返回反转后的链表"
   ]
  },
  {
   "cell_type": "code",
   "execution_count": 78,
   "metadata": {},
   "outputs": [],
   "source": [
    "class Solution:\n",
    "    def reverseList(self, head: ListNode) -> ListNode:\n",
    "        # TC: O(N)\n",
    "        # SC: O(1)\n",
    "        dummy = ListNode('d', head)\n",
    "        while head is not None and head.next is not None:\n",
    "            dnext = dummy.next   # dnext, hnext is the old status\n",
    "            hnext = head.next    # old status is unchangeable\n",
    "            dummy.next = hnext   \n",
    "            head.next = hnext.next\n",
    "            hnext.next = dnext  # 必须是 dnext 因为head是不变的\n",
    "        return dummy.next\n",
    "# the condition 'head is not None' is a must, because the input could be []."
   ]
  },
  {
   "cell_type": "markdown",
   "metadata": {},
   "source": [
    "**解题思路**\n",
    "<img src=\"206.jpg\" alt=\"drawing\" width=\"500\"/>"
   ]
  },
  {
   "cell_type": "markdown",
   "metadata": {},
   "source": [
    "# 数据结构 - 队列\n",
    "\n",
    "## 队列的常用操作"
   ]
  },
  {
   "cell_type": "code",
   "execution_count": 79,
   "metadata": {},
   "outputs": [
    {
     "name": "stdout",
     "output_type": "stream",
     "text": [
      "deque([1, 2, 3])\n"
     ]
    }
   ],
   "source": [
    "# 创建链表\n",
    "queue = deque()\n",
    "\n",
    "# add at the end, TC: O(1)\n",
    "queue.append(1) \n",
    "queue.append(2)\n",
    "queue.append(3)\n",
    "print(queue)"
   ]
  },
  {
   "cell_type": "code",
   "execution_count": 82,
   "metadata": {},
   "outputs": [
    {
     "data": {
      "text/plain": [
       "1"
      ]
     },
     "execution_count": 82,
     "metadata": {},
     "output_type": "execute_result"
    }
   ],
   "source": [
    "# 获取即将出队的元素: 先进先出  TC: O(1)\n",
    "queue[0]\n",
    "# 删除即将出队的元素: queue.popleft() TC: O(1)"
   ]
  },
  {
   "cell_type": "code",
   "execution_count": 84,
   "metadata": {},
   "outputs": [],
   "source": [
    "# 遍历队列：  TC: O(N)\n",
    "while len(queue) != 0:\n",
    "    temp = queue.popleft()\n",
    "    print(temp)"
   ]
  },
  {
   "cell_type": "markdown",
   "metadata": {},
   "source": [
    "## 队列对应题目\n",
    "\n",
    "### Leetcode 933: 最近的请求次数"
   ]
  },
  {
   "cell_type": "markdown",
   "metadata": {},
   "source": [
    "**题意**\n",
    "<img src=\"933.jpg\" alt=\"drawing\" width=\"300\"/>"
   ]
  },
  {
   "cell_type": "code",
   "execution_count": 86,
   "metadata": {},
   "outputs": [],
   "source": [
    "class RecentCounter:\n",
    "\n",
    "    def __init__(self):\n",
    "        self.q = deque()\n",
    "\n",
    "    def ping(self, t: int) -> int:\n",
    "        # TC: O(N)\n",
    "        # SC: O(N)\n",
    "        self.q.append(t)\n",
    "        while t-self.q[0] > 3000:\n",
    "            self.q.popleft()\n",
    "        return len(self.q)"
   ]
  },
  {
   "cell_type": "code",
   "execution_count": 88,
   "metadata": {},
   "outputs": [
    {
     "data": {
      "text/plain": [
       "3"
      ]
     },
     "execution_count": 88,
     "metadata": {},
     "output_type": "execute_result"
    }
   ],
   "source": [
    "test = RecentCounter()\n",
    "test.ping(1); test.ping(100); test.ping(3001); test.ping(3002)"
   ]
  },
  {
   "cell_type": "markdown",
   "metadata": {},
   "source": [
    "# 栈\n",
    "\n",
    "## 栈的基本操作"
   ]
  },
  {
   "cell_type": "code",
   "execution_count": null,
   "metadata": {},
   "outputs": [],
   "source": [
    "stack = [] # 创建栈\n",
    "stack.append(1) # 添加栈元素\n",
    "stack.append(2)\n",
    "stack.append(3)\n",
    "stack[-1] #获取栈顶元素\n",
    "stack.pop() #删除栈顶元素\n",
    "\n",
    "# 遍历栈 O(N)\n",
    "while len(stack) > 0:\n",
    "    temp = stack.pop(); print(temp)"
   ]
  },
  {
   "cell_type": "markdown",
   "metadata": {},
   "source": [
    "## 栈对应题目\n",
    "### Leetcode 20: 有效的括号\n",
    "给定一个只包括`'('`，`')'`，`'{'`，`'}'`，`'['`，`']'` 的字符串`s`，判断字符串是否有效。\n",
    "\n",
    "有效字符串需满足：\n",
    "\n",
    "1. 左括号必须用相同类型的右括号闭合。\n",
    "2. 左括号必须以正确的顺序闭合"
   ]
  },
  {
   "cell_type": "code",
   "execution_count": null,
   "metadata": {},
   "outputs": [],
   "source": [
    "# 自己的方法: 91%\n",
    "class Solution:\n",
    "    def isValid(self, s: str) -> bool:\n",
    "        # TC: O(N)\n",
    "        # SC: O(N)\n",
    "        stack = []\n",
    "        for i in s:\n",
    "            stack.append(i)\n",
    "            if len(stack) >= 2:\n",
    "                if stack[-2] + stack[-1] in ['()', '[]', '{}']:\n",
    "                    stack.pop()\n",
    "                    stack.pop()\n",
    "        if len(stack) == 0:\n",
    "            return True\n",
    "        else:\n",
    "            return False"
   ]
  },
  {
   "cell_type": "code",
   "execution_count": 18,
   "metadata": {},
   "outputs": [],
   "source": [
    "# 老师的方法，效率略低，但更符合栈的特性。 其实思路差不多\n",
    "class Solution:\n",
    "    def isValid(self, s: str) -> bool:\n",
    "        # TC, SC 同上\n",
    "        stack = []\n",
    "        for i in s:\n",
    "            if i in ['(', '[', '{']:\n",
    "                stack.append(i)\n",
    "            else:\n",
    "                if len(stack) == 0:  # 反括号开头，注孤生\n",
    "                    return False\n",
    "                else:\n",
    "                    match = stack[-1] + i\n",
    "                    if match in ['()', '[]', '{}']:\n",
    "                        stack.pop()\n",
    "                    else:\n",
    "                        return False\n",
    "        if len(stack) == 0:\n",
    "            return True\n",
    "        else:\n",
    "            return False"
   ]
  },
  {
   "cell_type": "markdown",
   "metadata": {},
   "source": [
    "### Leetcode 496： 下一个最大元素\n",
    "示例：\n",
    "\n",
    "输入：nums1 = [4,1,2], nums2 = [1,3,4,2].\n",
    "输出：[-1,3,-1]\n",
    "\n",
    "- 4， nums2 = [1,3,**4**,2]。不存在下一个更大元素，所以答案是 -1 。\n",
    "- 1， nums2 = [**1**,3,4,2]。下一个更大元素是 3 。\n",
    "- 2， nums2 = [1,3,4,**2**]。不存在下一个更大元素，所以答案是 -1 \n",
    "\n",
    "注意： \n",
    "\n",
    "- `nums1`和`nums2`中所有元素各不相同；\n",
    "- `nums1`是`nums2`的子集"
   ]
  },
  {
   "cell_type": "code",
   "execution_count": null,
   "metadata": {},
   "outputs": [],
   "source": [
    "# 自己的方法：\n",
    "class Solution:\n",
    "    def nextGreaterElement(self, nums1: List[int], nums2: List[int]) -> List[int]:\n",
    "        # TC: O(N^2);\n",
    "        # SC: O(N)\n",
    "        final = []\n",
    "        for i in nums1:\n",
    "            tmp = []\n",
    "            maxi = -1\n",
    "            while nums2[-1] != i: \n",
    "                top = nums2.pop()\n",
    "                tmp.append(top)\n",
    "                if top > i:\n",
    "                    maxi = top\n",
    "            final.append(maxi)\n",
    "\n",
    "            while len(tmp) > 0:\n",
    "                tmp_top = tmp.pop()\n",
    "                nums2.append(tmp_top)\n",
    "        return final\n",
    "    "
   ]
  },
  {
   "cell_type": "code",
   "execution_count": null,
   "metadata": {},
   "outputs": [],
   "source": [
    "# 哈希表+单调栈解法， 效率很高 >90%\n",
    "# 一旦要求下一个更大的元素，就是用单调栈解\n",
    "class Solution:\n",
    "    def nextGreaterElement(self, nums1: List[int], nums2: List[int]) -> List[int]:\n",
    "        # TC: O(N)\n",
    "        # SC: O(N)\n",
    "        res = {}\n",
    "        stack = []\n",
    "        while len(nums2) != 0:\n",
    "            num = nums2.pop()\n",
    "            while stack and num > stack[-1]:\n",
    "                stack.pop()\n",
    "            res[num] = stack[-1] if stack else -1\n",
    "            stack.append(num)\n",
    "        ans = [res[n] for n in nums1]\n",
    "        return ans\n",
    "\n",
    "# 找出nums2中每个元素的右边更大元素\n",
    "# 倒序遍历nums2中元素，储存在stack中，使stack中元素是nums2[i]右面所有的单调递增元素(从栈顶到栈底递增)。stack[-1]及nums2[i]对应的数"
   ]
  },
  {
   "cell_type": "markdown",
   "metadata": {},
   "source": [
    "# 哈希表\n",
    "\n",
    "## 基本操作"
   ]
  },
  {
   "cell_type": "code",
   "execution_count": 9,
   "metadata": {},
   "outputs": [
    {
     "data": {
      "text/plain": [
       "2"
      ]
     },
     "execution_count": 9,
     "metadata": {},
     "output_type": "execute_result"
    }
   ],
   "source": [
    "dic = {'a':1, 'b':2, 'c':3}\n",
    "\n",
    "#删除元素：\n",
    "dic.pop('c') #返回3\n",
    "len(dic) # 返回2"
   ]
  },
  {
   "cell_type": "markdown",
   "metadata": {},
   "source": [
    "## 哈希表对应题目"
   ]
  },
  {
   "cell_type": "markdown",
   "metadata": {},
   "source": [
    "### Leetcode 217: 存在重复元素\n",
    "\n",
    "给你一个整数数组`nums`。如果任一值在数组中出现至少两次 ，返回`true`；如果数组中每个元素互不相同，返回`false`。"
   ]
  },
  {
   "cell_type": "code",
   "execution_count": null,
   "metadata": {},
   "outputs": [],
   "source": [
    "# 用哈希表来解 60%\n",
    "class Solution:\n",
    "    def containsDuplicate(self, nums: List[int]) -> bool:\n",
    "        # TC: O(N)\n",
    "        # SC: O(N)\n",
    "        dic = {}  # 不能用列表，因为列表的查找时间复杂度是 O(N), 这样一来算法的时间复杂度就是O(N^2)\n",
    "        while nums:\n",
    "            ele = nums.pop()\n",
    "            if ele in dic: # 哈希表的查找是O(1)\n",
    "                return True\n",
    "            else:\n",
    "                dic[ele] = 1\n",
    "        return False"
   ]
  },
  {
   "cell_type": "markdown",
   "metadata": {},
   "source": [
    "### Leetcode 389： 找不同\n",
    "\n",
    "给定两个字符串 s 和 t，它们只包含小写字母。字符串 t 由字符串 s 随机重排，然后在随机位置添加一个字母。请找出在 t 中被添加的字母"
   ]
  },
  {
   "cell_type": "code",
   "execution_count": 17,
   "metadata": {},
   "outputs": [],
   "source": [
    "# ASCII: t中字母的ascii码之和减去s中字母的ascii码之和， 再转换成字符\n",
    "class Solution:\n",
    "    def findTheDifference(self, s: str, t: str) -> str:\n",
    "        # TS: O(N)\n",
    "        # SC: O(1)\n",
    "        s_sum = 0\n",
    "        t_sum = 0\n",
    "        if len(s) == 0:\n",
    "            return t\n",
    "        else:\n",
    "            for i in s:\n",
    "                s_sum += ord(i)\n",
    "            for j in t:\n",
    "                t_sum += ord(j)\n",
    "        return chr(t_sum-s_sum)"
   ]
  },
  {
   "cell_type": "code",
   "execution_count": 18,
   "metadata": {},
   "outputs": [],
   "source": [
    "# 将两个字符串连接， 添加的字母一定出现了奇数次\n",
    "class Solution:\n",
    "    def findTheDifference(self, s: str, t: str) -> str:\n",
    "        # TS: O(N)\n",
    "        # SC: O(alpha-bet table)\n",
    "        st = s + t\n",
    "        char_occur = {}\n",
    "        for i in st:\n",
    "            if i in char_occur:\n",
    "                char_occur[i] += 1\n",
    "            else:\n",
    "                char_occur[i] = 1\n",
    "        for j in char_occur:\n",
    "            if char_occur[j] % 2 == 1:\n",
    "                return j  \n",
    "# 略次，因为还要遍历一遍 char_occur， 如果 内容不是单个的字母，复杂度就很大\n",
    "\n",
    "# 方法三： 计数 s中出现该字母则+1， t中出现一次则减一， 之后遍历字典得到计数为一的字母"
   ]
  },
  {
   "cell_type": "markdown",
   "metadata": {},
   "source": [
    "# 集合(哈希集合)\n",
    "\n",
    "## 集合对应题目\n",
    "\n",
    "### Leetcode 217： 存在重复元素"
   ]
  },
  {
   "cell_type": "code",
   "execution_count": null,
   "metadata": {},
   "outputs": [],
   "source": [
    "# 利用集合长度来解题：\n",
    "class Solution:\n",
    "    def containsDuplicate(self, nums: List[int]) -> bool:\n",
    "        #TC: O(1)\n",
    "        #SC: O(N)\n",
    "        nums_set = set(nums)\n",
    "        if len(nums_set) == len(nums):\n",
    "            return False\n",
    "        else:\n",
    "            return True"
   ]
  },
  {
   "cell_type": "code",
   "execution_count": null,
   "metadata": {},
   "outputs": [],
   "source": [
    "# 遍历哈希集合：\n",
    "class Solution:\n",
    "    def containsDuplicate(self, nums: List[int]) -> bool:\n",
    "        #TC: O(N)\n",
    "        #SC: O(N)\n",
    "        s = set()\n",
    "        for n in nums:\n",
    "            if n in s:\n",
    "                return True\n",
    "            s.add(n)\n",
    "        return False"
   ]
  },
  {
   "cell_type": "markdown",
   "metadata": {},
   "source": [
    "### Leetcode 715: 设计哈希集合\n",
    "\n",
    "不使用任何内建的哈希表库设计一个哈希集合（HashSet）。实现`MyHashSet`类：\n",
    "\n",
    "* `void add(key)`向哈希集合中插入值`key`。\n",
    "* `bool contains(key)`返回哈希集合中是否存在这个值`key`。\n",
    "* `void remove(key)`将给定值`key`从哈希集合中删除。如果哈希集合中没有这个值，什么也不做。"
   ]
  },
  {
   "cell_type": "code",
   "execution_count": null,
   "metadata": {},
   "outputs": [],
   "source": [
    "class MyHashSet:\n",
    "    # TC: O(1)\n",
    "    # SC: O(N)\n",
    "    def __init__(self):\n",
    "        self.set = [0] * 1000001\n",
    "\n",
    "    def add(self, key: int) -> None:\n",
    "        self.set[key] = 1\n",
    "\n",
    "    def remove(self, key: int) -> None:\n",
    "        self.set[key] = 0\n",
    "\n",
    "    def contains(self, key: int) -> bool:\n",
    "        return True if self.set[key] else False\n",
    "\n",
    "# Your MyHashSet object will be instantiated and called as such:\n",
    "# obj = MyHashSet()\n",
    "# obj.add(key)\n",
    "# obj.remove(key)\n",
    "# param_3 = obj.contains(key)"
   ]
  },
  {
   "cell_type": "code",
   "execution_count": null,
   "metadata": {},
   "outputs": [],
   "source": [
    "class MyHashSet:\n",
    "    # TC: O(N/bucket)\n",
    "    # SC: O(1)\n",
    "    def __init__(self):\n",
    "        self.bucket = 1000  # 将 1000001 个可能的值放到1000个桶里面\n",
    "        self.set = [[] for i in range(self.bucket)]\n",
    "\n",
    "\n",
    "    def add(self, key: int) -> None:\n",
    "        index=  key % self.bucket # k%1000 的余数在 0~999 之间\n",
    "        if key not in self.set[index]: # 用得出的余数确定这个 key 应该处于哪个桶里面\n",
    "            self.set[index].append(key) # 不在这个桶里面就加上\n",
    "\n",
    "\n",
    "    def remove(self, key: int) -> None:\n",
    "        index = key % self.bucket \n",
    "        try:\n",
    "            self.set[index].remove(key)\n",
    "        except:\n",
    "            return\n",
    "        \n",
    "    def contains(self, key: int) -> bool:\n",
    "        index =key%self.bucket\n",
    "        if key in self.set[index]:\n",
    "            return True \n",
    "        else:\n",
    "            return False "
   ]
  },
  {
   "cell_type": "markdown",
   "metadata": {},
   "source": [
    "# 二叉树\n",
    "\n",
    "## 二叉树对应题目\n",
    "\n",
    "### Leetcode 144： 二叉树前序遍历\n",
    "\n",
    "给你二叉树的根节点`root`，返回它节点值的 前序 遍历。"
   ]
  },
  {
   "cell_type": "code",
   "execution_count": null,
   "metadata": {},
   "outputs": [],
   "source": [
    "# 递归法，不是很明白。。。\n",
    "\n",
    "# Definition for a binary tree node.\n",
    "# class TreeNode:\n",
    "#     def __init__(self, val=0, left=None, right=None):\n",
    "#         self.val = val\n",
    "#         self.left = left\n",
    "#         self.right = right\n",
    "class Solution:\n",
    "    def preorderTraversal(self, root: Optional[TreeNode]) -> List[int]:\n",
    "        if not root:\n",
    "            return []\n",
    "        return [root.val] + self.preorderTraversal(root.left) + self.preorderTraversal(root.right)"
   ]
  },
  {
   "cell_type": "code",
   "execution_count": null,
   "metadata": {},
   "outputs": [],
   "source": [
    "# 节点标记法： 利用了栈\n",
    "class Solution:\n",
    "    def preorderTraversal(self, root: Optional[TreeNode]) -> List[int]:\n",
    "        white, grey = 0, 1\n",
    "        res = []\n",
    "        stack = [(white, root)] # 首先root肯定是white，因为我们还没有开始处理\n",
    "        while stack:\n",
    "            color, node = stack.pop()\n",
    "            if node is None:\n",
    "                continue # 这个 node 是 null, 什么也不做退出循环\n",
    "            if color == white: # 没处理过的根(这里的根是相对而言的), 先把根节点和两个子节点逆序加进栈里等待处理\n",
    "                stack.append((white, node.right))\n",
    "                stack.append((white, node.left))\n",
    "                stack.append((grey, node)) # 已经处理了，变成灰色\n",
    "            else:\n",
    "                res.append(node.val)\n",
    "        return res\n",
    "    \n",
    "# 后序和中序只用改变stack.append的顺序即可"
   ]
  },
  {
   "cell_type": "markdown",
   "metadata": {},
   "source": [
    "# 堆\n",
    "## 堆对应题目\n",
    "### Leetcode 215: 数组中第k个最大元素\n",
    "给定整数数组`nums`和整数`k`，请返回数组中第`k`个最大的元素。\n",
    "\n",
    "请注意，你需要找的是数组排序后的第`k`个最大的元素，而不是第`k`个不同的元素。"
   ]
  },
  {
   "cell_type": "code",
   "execution_count": 20,
   "metadata": {},
   "outputs": [],
   "source": [
    "import heapq\n",
    "class Solution:\n",
    "    def findKthLargest(self, nums: List[int], k: int) -> int:\n",
    "        # TC: O(NlogN)\n",
    "        # SC: O(logN)\n",
    "        maxheap = [i*(-1) for i in nums] # heapq这个包只能产生最小堆，所以需要每个元素*(-1)\n",
    "        heapq.heapify(maxheap)\n",
    "        for i in range(k-1):\n",
    "            heapq.heappop(maxheap)  # 最大堆： 栈顶元素一定是最大的，每次弹出即可\n",
    "        return -heapq.heappop(maxheap)\n",
    "\n",
    "# 最简单：\n",
    "class Solution1:\n",
    "    def findKthLargest(self, nums: List[int], k: int) -> int:\n",
    "        nums.sort()\n",
    "        return nums[-k]\n",
    "\n",
    "# 原创\n",
    "class Solution:\n",
    "    def findKthLargest(self, nums: List[int], k: int) -> int:\n",
    "        # TC: k*n\n",
    "        for i in range(k):\n",
    "            #max_temp = nums[i]\n",
    "            for j in range(i, len(nums)):\n",
    "                #max_temp = max(max_temp, nums[j])\n",
    "                if nums[j] > nums[i]:\n",
    "                    nums[i], nums[j] = nums[j], nums[i]\n",
    "        return nums[k-1]"
   ]
  },
  {
   "cell_type": "markdown",
   "metadata": {},
   "source": [
    "### Leetcode 692: 前k个高频单词\n",
    "\n",
    "给一非空的单词列表，返回前 k 个出现次数最多的单词。返回的答案应该按单词出现频率由高到低排序。如果不同的单词有相同出现频率，按字母顺序排序。"
   ]
  },
  {
   "cell_type": "code",
   "execution_count": 64,
   "metadata": {},
   "outputs": [],
   "source": [
    "import heapq\n",
    "class Solution:\n",
    "    def topKFrequent(self, words, k):\n",
    "        # TC: O(NlogN)\n",
    "        # SC: O(N)\n",
    "        word_frep = {} # 用哈希表储存 单词和其对应的频率\n",
    "        for w in words:\n",
    "            if w not in word_frep:\n",
    "                word_frep[w] = 0\n",
    "            word_frep[w] += 1\n",
    "        \n",
    "        heap = []\n",
    "        for key, value in word_frep.items():\n",
    "            heapq.heappush(heap, node(key, value)) #构建最小堆\n",
    "            if len(heap) > k:  # 保证堆中始终是当前最大的 K 个对象\n",
    "                heapq.heappop(heap)           \n",
    "        \n",
    "        res = []\n",
    "        while len(heap) > 0:\n",
    "            temp = heapq.heappop(heap)\n",
    "            res.append(temp.key)\n",
    "            \n",
    "        res.reverse() # 不能return这个！！！\n",
    "        return res # 因为先弹出最小的，所以res中的顺序是相反的\n",
    "    \n",
    "class node:  #自定义一个比较逻辑\n",
    "    def __init__(self, key, value):\n",
    "        self.key = key\n",
    "        self.value = value\n",
    "    def __lt__(self, other):  # 自定义 满足 self<other 需要什么条件\n",
    "        return self.key > other.key if self.value == other.value else self.value < other.value"
   ]
  },
  {
   "cell_type": "code",
   "execution_count": 65,
   "metadata": {},
   "outputs": [
    {
     "data": {
      "text/plain": [
       "['i', 'love']"
      ]
     },
     "execution_count": 65,
     "metadata": {},
     "output_type": "execute_result"
    }
   ],
   "source": [
    "test = Solution()\n",
    "test.topKFrequent([\"i\", \"love\", \"leetcode\", \"i\", \"love\", \"coding\"], 2)"
   ]
  },
  {
   "cell_type": "code",
   "execution_count": null,
   "metadata": {},
   "outputs": [],
   "source": [
    "class Solution(object):\n",
    "    def topKFrequent(self, words, k):\n",
    "        return [x[1] for x in heapq.nsmallest(k, [(v, k) for k, v in collections.Counter(words).items()]\\\n",
    "                                              , key=lambda a: (-a[0], a[1]))]"
   ]
  },
  {
   "cell_type": "code",
   "execution_count": 32,
   "metadata": {},
   "outputs": [
    {
     "name": "stdout",
     "output_type": "stream",
     "text": [
      "['i', 'i', 'leetcode', 'love', 'love']\n"
     ]
    }
   ],
   "source": [
    "print(nums)"
   ]
  },
  {
   "cell_type": "code",
   "execution_count": 33,
   "metadata": {},
   "outputs": [
    {
     "data": {
      "text/plain": [
       "'i'"
      ]
     },
     "execution_count": 33,
     "metadata": {},
     "output_type": "execute_result"
    }
   ],
   "source": [
    "heapq.heappop(nums)"
   ]
  },
  {
   "cell_type": "code",
   "execution_count": 34,
   "metadata": {},
   "outputs": [
    {
     "name": "stdout",
     "output_type": "stream",
     "text": [
      "['i', 'love', 'leetcode', 'love']\n"
     ]
    }
   ],
   "source": [
    "print(nums)"
   ]
  },
  {
   "cell_type": "code",
   "execution_count": null,
   "metadata": {},
   "outputs": [],
   "source": [
    "def judge(number):\n",
    "    if int(number)%11==0:\n",
    "        return True\n",
    "    elif number.count('1') >= 2:\n",
    "        return True\n",
    "    else:\n",
    "        False"
   ]
  },
  {
   "cell_type": "code",
   "execution_count": 4,
   "metadata": {},
   "outputs": [
    {
     "name": "stdout",
     "output_type": "stream",
     "text": [
      "(1,)\n",
      "(1,)\n",
      "(-1,)\n",
      "(-1,)\n",
      "(1, 1)\n",
      "(1, -1)\n",
      "(1, -1)\n",
      "(1, -1)\n",
      "(1, -1)\n",
      "(-1, -1)\n",
      "(1, 1, -1)\n",
      "(1, 1, -1)\n",
      "(1, -1, -1)\n",
      "(1, -1, -1)\n",
      "(1, 1, -1, -1)\n"
     ]
    }
   ],
   "source": [
    "import itertools\n",
    "\n",
    "stuff = [1, 1, -1, -1]\n",
    "for L in range(1, len(stuff)+1):\n",
    "    for subset in itertools.combinations(stuff, L):\n",
    "        print(subset)"
   ]
  },
  {
   "cell_type": "code",
   "execution_count": 5,
   "metadata": {},
   "outputs": [
    {
     "data": {
      "text/plain": [
       "[0, 1, 2, 3]"
      ]
     },
     "execution_count": 5,
     "metadata": {},
     "output_type": "execute_result"
    }
   ],
   "source": [
    "list(range(4))"
   ]
  },
  {
   "cell_type": "code",
   "execution_count": null,
   "metadata": {},
   "outputs": [],
   "source": []
  },
  {
   "cell_type": "code",
   "execution_count": null,
   "metadata": {},
   "outputs": [],
   "source": []
  },
  {
   "cell_type": "code",
   "execution_count": null,
   "metadata": {},
   "outputs": [],
   "source": []
  }
 ],
 "metadata": {
  "kernelspec": {
   "display_name": "Python 3",
   "language": "python",
   "name": "python3"
  },
  "language_info": {
   "codemirror_mode": {
    "name": "ipython",
    "version": 3
   },
   "file_extension": ".py",
   "mimetype": "text/x-python",
   "name": "python",
   "nbconvert_exporter": "python",
   "pygments_lexer": "ipython3",
   "version": "3.8.3"
  },
  "toc": {
   "base_numbering": 1,
   "nav_menu": {},
   "number_sections": true,
   "sideBar": true,
   "skip_h1_title": false,
   "title_cell": "Table of Contents",
   "title_sidebar": "Contents",
   "toc_cell": false,
   "toc_position": {},
   "toc_section_display": true,
   "toc_window_display": false
  }
 },
 "nbformat": 4,
 "nbformat_minor": 4
}
