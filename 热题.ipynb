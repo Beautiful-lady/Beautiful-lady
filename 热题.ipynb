{
 "cells": [
  {
   "cell_type": "markdown",
   "metadata": {},
   "source": [
    "### 买卖股票的最佳时间(贪心)\n",
    "\n",
    "给定一个数组`prices`，它的第`i`个元素`prices[i]`表示一支给定股票第`i`天的价格。\n",
    "你只能选择 某一天 买入这只股票，并选择在 未来的某一个不同的日子 卖出该股票。设计一个算法来计算你所能获取的最大利润。\n",
    "返回你可以从这笔交易中获取的最大利润。如果你不能获取任何利润，返回`0`. "
   ]
  },
  {
   "cell_type": "code",
   "execution_count": null,
   "metadata": {},
   "outputs": [],
   "source": [
    "class Solution:\n",
    "    def maxProfit(self, prices: List[int]) -> int:\n",
    "        min_price = prices[0]  #先假定第一个元素是最小的\n",
    "        profit = 0  # 将利润初始化为0\n",
    "\n",
    "        for i in prices:\n",
    "            if i < min_price:\n",
    "                min_price = i #买入股票的最佳时间：当前最低点\n",
    "            elif i >= min_price:\n",
    "                profit = max(profit, i-min_price)  # 只要比最低点高一些，就计算一下利润\n",
    "        \n",
    "        return profit"
   ]
  },
  {
   "cell_type": "markdown",
   "metadata": {},
   "source": [
    "### Leetcode 136: 只出现一次的数字(异或)\n",
    "\n",
    "给定一个非空整数数组，除了某个元素只出现一次以外，其余每个元素均出现两次。找出那个只出现了一次的元素。\n",
    "\n",
    "时间复杂度: `O(n)`; 空间复杂度: `O(1)`"
   ]
  },
  {
   "cell_type": "code",
   "execution_count": 6,
   "metadata": {},
   "outputs": [],
   "source": [
    "from typing import List\n",
    "# 异或： a^b^b = b^a^b = a\n",
    "class Solution:\n",
    "    def singleNumber(self, nums: List[int]) -> int:\n",
    "        re = 0\n",
    "        for i in nums:\n",
    "            re = re ^ i\n",
    "        return re\n",
    "\n",
    "# 方法二：排序之后做‘+-+-+-...’运算，最后剩下的是单着的数字"
   ]
  },
  {
   "cell_type": "code",
   "execution_count": 4,
   "metadata": {},
   "outputs": [
    {
     "data": {
      "text/plain": [
       "3"
      ]
     },
     "execution_count": 4,
     "metadata": {},
     "output_type": "execute_result"
    }
   ],
   "source": [
    "0 ^ 2 ^ 2 ^ 3"
   ]
  },
  {
   "cell_type": "markdown",
   "metadata": {},
   "source": [
    "### Leetcode 53: 最大子数组和(动态规划)\n",
    "\n",
    "给你一个整数数组`nums`，请你找出一个具有最大和的连续子数组（子数组最少包含一个元素），返回其最大和。\n",
    "子数组 是数组中的一个连续部分。"
   ]
  },
  {
   "cell_type": "code",
   "execution_count": null,
   "metadata": {},
   "outputs": [],
   "source": [
    "class Solution:\n",
    "    def maxSubArray(self, nums: List[int]) -> int:\n",
    "        # 动态规划\n",
    "        # 将 nums 中的每一个元素替换成包含当前位置的最优解\n",
    "        # 只要之前的数是正值就可以累加\n",
    "        # 时间复杂度: O(N), 空间复杂度: O(1)\n",
    "\n",
    "        for i in range(1, len(nums)):\n",
    "            nums[i] = nums[i] + max(nums[i-1], 0)\n",
    "        return max(nums)"
   ]
  },
  {
   "cell_type": "markdown",
   "metadata": {},
   "source": [
    "### Leetcode 2: 两数相加(链表)\n",
    "\n",
    "https://leetcode-cn.com/problems/add-two-numbers/\n",
    "\n",
    "给你两个 非空 的链表，表示两个非负的整数。它们每位数字都是按照 逆序 的方式存储的，并且每个节点只能存储 一位 数字。\n",
    "请你将两个数相加，并以相同形式返回一个表示和的链表。\n",
    "你可以假设除了数字 0 之外，这两个数都不会以 0 开头。\n"
   ]
  },
  {
   "cell_type": "code",
   "execution_count": null,
   "metadata": {},
   "outputs": [],
   "source": [
    "# Definition for singly-linked list.\n",
    "# class ListNode:\n",
    "#     def __init__(self, val=0, next=None):\n",
    "#         self.val = val\n",
    "#         self.next = next\n",
    "class Solution:\n",
    "    def addTwoNumbers(self, l1: ListNode, l2: ListNode) -> ListNode:\n",
    "        head = ListNode(0) # 额外设置一个head是为了记住result的开头\n",
    "        result = head   # result 每进行一次遍历，前面的都不可考\n",
    "        carry = 0    # 记录进位 \n",
    "\n",
    "        while (l1 or l2):  # 就相当于 短一点的链表后面用0来填补\n",
    "            x = l1.val if l1 else 0\n",
    "            y = l2.val if l2 else 0\n",
    "            value = carry + x + y\n",
    "            carry = value // 10      # 用作下一次计算时加上的进位，应该只有1,0两种\n",
    "            result.next = ListNode(value%10)   # result 链表中只要 值的个位数部分\n",
    "            result = result.next\n",
    "            \n",
    "            if l1 != None: l1 = l1.next\n",
    "            if l2 != None: l2 = l2.next\n",
    "\n",
    "        if carry > 0: result.next = ListNode(carry) #不要忘了最后两个数字也有可能产生进位\n",
    "\n",
    "        return head.next"
   ]
  },
  {
   "cell_type": "markdown",
   "metadata": {},
   "source": [
    "### Leetcode 3: 无重复字符的最长字串(滑动窗口)\n",
    "\n",
    "给定一个字符串`s`，请你找出其中不含有重复字符的 最长子串 的长度\n",
    "\n",
    "时间复杂度: `O(n)`; 空间复杂度: `O(n)`"
   ]
  },
  {
   "cell_type": "code",
   "execution_count": null,
   "metadata": {},
   "outputs": [],
   "source": [
    "class Solution:\n",
    "    def lengthOfLongestSubstring(self, s: str) -> int:\n",
    "        if not s: return 0\n",
    "\n",
    "        left = 0\n",
    "        cur_length = 0\n",
    "        max_length = 0\n",
    "        char_set = set()  #最好使用哈希集合，因为搜索 插入 删除的时间复杂度都是O(1)\n",
    "\n",
    "        for right, element in enumerate(s):\n",
    "            while element in char_set:   # 只要遇到了重复字符，就一直拉动左指针直到没有重复字符为止\n",
    "                char_set.remove(s[left])\n",
    "                left += 1\n",
    "                cur_length -= 1\n",
    "            char_set.add(element)  # 如果没有重复字符，窗口向右扩展\n",
    "            cur_length += 1\n",
    "            max_length = max(max_length, cur_length)\n",
    "\n",
    "        return max_length"
   ]
  },
  {
   "cell_type": "markdown",
   "metadata": {},
   "source": [
    "### 最长公共子串"
   ]
  },
  {
   "cell_type": "code",
   "execution_count": 121,
   "metadata": {},
   "outputs": [],
   "source": [
    "import numpy as np\n",
    "def max_common_substring(str1, str2):\n",
    "    n = len(str1)  \n",
    "    m = len(str2)\n",
    "    occur_mat = [[0 for k in range(n+1)] for l in range(m+1)]\n",
    "    max_row = 0\n",
    "    max_column = 0\n",
    "    res_length = 0\n",
    "\n",
    "    for i in range(0, n):\n",
    "        for j in range(0, m):\n",
    "            if str1[i] == str2[j]:\n",
    "                occur_mat[j+1][i+1]=occur_mat[j][i]+1\n",
    "                if occur_mat[j+1][i+1] > res_length:\n",
    "                    res_length = occur_mat[j+1][i+1]\n",
    "                    max_row = j\n",
    "                    max_column = i\n",
    "    res = ''\n",
    "    while occur_mat[max_row+1][max_column+1] > 0:\n",
    "        res = res + str1[max_column]\n",
    "        max_row -= 1\n",
    "        max_column -= 1\n",
    "    \n",
    "    return res[::-1]"
   ]
  },
  {
   "cell_type": "code",
   "execution_count": 122,
   "metadata": {},
   "outputs": [
    {
     "data": {
      "text/plain": [
       "'abc'"
      ]
     },
     "execution_count": 122,
     "metadata": {},
     "output_type": "execute_result"
    }
   ],
   "source": [
    "max_common_substring('aabc', 'abc')"
   ]
  },
  {
   "cell_type": "markdown",
   "metadata": {},
   "source": [
    "### Leetcode 15: 三数之和 (双指针)\n",
    "\n",
    "给你一个包含`n`个整数的数组`nums`，判断`nums`中是否存在三个元素`a，b，c`，使得`a + b + c = 0`？请你找出所有和为`0`且不重复的三元组"
   ]
  },
  {
   "cell_type": "code",
   "execution_count": 98,
   "metadata": {},
   "outputs": [
    {
     "data": {
      "text/plain": [
       "[1, 2, 3]"
      ]
     },
     "execution_count": 98,
     "metadata": {},
     "output_type": "execute_result"
    }
   ],
   "source": [
    "class Solution:\n",
    "    def threeSum(self, nums: List[int]) -> List[List[int]]:\n",
    "        \n",
    "        # 特殊情况，如果数组的长度小于3，就直接返回 []\n",
    "        n = len(nums)\n",
    "        if n<3:\n",
    "            return []\n",
    "\n",
    "        nums.sort()\n",
    "        res = []\n",
    "        for i in range(n):\n",
    "            if nums[i] > 0:  # 第一个数大于0，没有必要找后面两个数了。因为数组是排过序的\n",
    "                return res\n",
    "            if (i>0 and nums[i]==nums[i-1]): # nums[i] 重复出现，跳过\n",
    "                continue\n",
    "            L = i+1\n",
    "            R = n-1\n",
    "            while L < R:\n",
    "                if nums[i]+nums[L]+nums[R] == 0:\n",
    "                    res.append([nums[i], nums[L], nums[R]])\n",
    "                    while (L < R and nums[L]==nums[L+1]):  # nums[L+1] 重复出现，跳过\n",
    "                        L += 1\n",
    "                    while (L < R and nums[R]==nums[R-1]):\n",
    "                        R -= 1\n",
    "                    L += 1\n",
    "                    R -= 1\n",
    "                elif nums[i]+nums[L]+nums[R] < 0:\n",
    "                    L += 1\n",
    "                elif nums[i]+nums[L]+nums[R] > 0:\n",
    "                    R -= 1\n",
    "        return res"
   ]
  },
  {
   "cell_type": "markdown",
   "metadata": {},
   "source": [
    "### 剑指 Offer 09. 用两个栈实现队列\n",
    "\n",
    "用两个栈实现一个队列。队列的声明如下，请实现它的两个函数`appendTail`和`deleteHead`，分别完成在队列尾部插入整数和在队列头部删除整数的功能。(若队列中没有元素`deleteHead`操作返回`-1`)。\n",
    "\n",
    "输入：\n",
    "`[\"CQueue\",\"appendTail\",\"deleteHead\",\"deleteHead\"]\n",
    "[[],[3],[],[]]`\n",
    "\n",
    "输出:`[null,null,3,-1]`\n",
    "\n"
   ]
  },
  {
   "cell_type": "code",
   "execution_count": null,
   "metadata": {},
   "outputs": [],
   "source": [
    "class CQueue:\n",
    "\n",
    "    def __init__(self):\n",
    "        self.A = [] # 队列主体\n",
    "        self.B = [] # 中转\n",
    "\n",
    "    def appendTail(self, value: int) -> None:\n",
    "        self.A.append(value) \n",
    "\n",
    "    def deleteHead(self) -> int:  # 删除头元素的时候，将A栈元素入B栈，就实现了A栈的倒序\n",
    "        if self.B: return self.B.pop()\n",
    "        if not self.A: return -1\n",
    "        while self.A:\n",
    "            self.B.append(self.A.pop())\n",
    "        return self.B.pop()"
   ]
  },
  {
   "cell_type": "markdown",
   "metadata": {},
   "source": [
    "### Leetcode 415: 字符串相加\n",
    "\n",
    "给定两个字符串形式的非负整数`num1`和`num2`，计算它们的和并同样以字符串形式返回。\n",
    "你不能使用任何內建的用于处理大整数的库（比如`BigInteger`）， 也不能直接将输入的字符串转换为整数形式。\n",
    "\n",
    "输入: `num1 = \"11\", num2 = \"123\"`\n",
    "输出: `\"134\"`"
   ]
  },
  {
   "cell_type": "code",
   "execution_count": null,
   "metadata": {},
   "outputs": [],
   "source": [
    "class Solution:\n",
    "    def addStrings(self, num1: str, num2: str) -> str:\n",
    "        res = ''\n",
    "        i = len(num1) - 1\n",
    "        j = len(num2) - 1\n",
    "        carry = 0\n",
    "\n",
    "        while i>=0 or j>=0:\n",
    "            value_1 = int(num1[i]) if i>=0 else 0\n",
    "            value_2 = int(num2[j]) if j>=0 else 0\n",
    "            value_temp = value_1 + value_2 + carry\n",
    "            carry = value_temp // 10\n",
    "            value = value_temp % 10\n",
    "            res = str(value) + res\n",
    "            i -= 1\n",
    "            j -= 1\n",
    "        \n",
    "        return '1'+res if carry!=0 else res"
   ]
  },
  {
   "cell_type": "markdown",
   "metadata": {},
   "source": [
    "### Leetcode 21: 合并两个有序链表\n",
    "\n",
    "将两个升序链表合并为一个新的 升序 链表并返回。新链表是通过拼接给定的两个链表的所有节点组成的。 [递归讲解](https://leetcode-cn.com/problems/merge-two-sorted-lists/solution/yi-kan-jiu-hui-yi-xie-jiu-fei-xiang-jie-di-gui-by-/)"
   ]
  },
  {
   "cell_type": "code",
   "execution_count": null,
   "metadata": {},
   "outputs": [],
   "source": [
    "class Solution:\n",
    "    def mergeTwoLists(self, l1: ListNode, l2: ListNode) -> ListNode:\n",
    "        if not l1: return l2  # 终止条件，其中一个链表为空\n",
    "        if not l2: return l1\n",
    "        if l1.val < l2.val:  # 递归调用\n",
    "            l1.next = self.mergeTwoLists(l1.next,l2)\n",
    "            return l1\n",
    "        else:\n",
    "            l2.next = self.mergeTwoLists(l1,l2.next)\n",
    "            return l2"
   ]
  },
  {
   "cell_type": "markdown",
   "metadata": {},
   "source": [
    "### Leetcode 9: 回文数\n",
    "\n",
    "给你一个整数`x`，如果`x`是一个回文整数，返回`true`；否则，返回`false`。回文数是指正序（从左向右）和倒序（从右向左）读都是一样的整数。"
   ]
  },
  {
   "cell_type": "code",
   "execution_count": null,
   "metadata": {},
   "outputs": [],
   "source": [
    "class Solution:\n",
    "    def isPalindrome(self, x: int) -> bool:\n",
    "        # 一定不是回文的情况\n",
    "        if x<0 or (x%10==0 and x!=0):\n",
    "            return False\n",
    "\n",
    "        reverted_num = 0\n",
    "\n",
    "        while reverted_num < x:\n",
    "            remain = x % 10\n",
    "            x = x // 10\n",
    "            reverted_num = reverted_num * 10 + remain\n",
    "\n",
    "        return reverted_num == x or reverted_num // 10 == x # or 之后处理给定数字为奇数位的情况"
   ]
  },
  {
   "cell_type": "markdown",
   "metadata": {},
   "source": [
    "<img src=\"reverted_num.jpg\" alt=\"drawing\" width=\"350\"/>"
   ]
  },
  {
   "cell_type": "markdown",
   "metadata": {},
   "source": [
    "### Leetcode 202: 快乐数\n",
    "\n",
    "编写一个算法来判断一个数`n`是不是快乐数。\n",
    "\n",
    "「快乐数」 定义为：\n",
    "\n",
    "对于一个正整数，每一次将该数替换为它每个位置上的数字的平方和。\n",
    "然后重复这个过程直到这个数变为`1`，也可能是 无限循环 但始终变不到`1`。\n",
    "如果这个过程 结果为`1`，那么这个数就是快乐数。\n",
    "如果`n`是 快乐数 就返回`true`；不是，则返回`false` 。 [快慢指针思想](https://leetcode-cn.com/problems/happy-number/solution/shi-yong-kuai-man-zhi-zhen-si-xiang-zhao-chu-xun-h/)"
   ]
  },
  {
   "cell_type": "code",
   "execution_count": null,
   "metadata": {},
   "outputs": [],
   "source": [
    "class Solution:\n",
    "    def isHappy(self, n: int) -> bool:\n",
    "        # 先定义一个求所有位平方和的方程\n",
    "        def calculate_sum(number):\n",
    "            sums = 0\n",
    "            while number > 0:\n",
    "                bit = number % 10\n",
    "                sums += bit * bit\n",
    "                number = number // 10\n",
    "            return sums\n",
    "\n",
    "        # 定义一个集合用来存放所有可能出现的平方和\n",
    "        sum_all = set()\n",
    "\n",
    "        while True:\n",
    "            n = calculate_sum(n)\n",
    "            if n == 1: return True\n",
    "            elif n in sum_all: return False  # 说明出现了循环\n",
    "            else: sum_all.add(n)"
   ]
  },
  {
   "cell_type": "markdown",
   "metadata": {},
   "source": [
    "### Leetcode 14: 最长公共前缀\n",
    "\n",
    "编写一个函数来查找字符串数组中的最长公共前缀。如果不存在公共前缀，返回空字符串`\"\"`。\n",
    "\n",
    "输入：`strs = [\"flower\",\"flow\",\"flight\"]`\n",
    "输出：`\"fl\"`"
   ]
  },
  {
   "cell_type": "code",
   "execution_count": null,
   "metadata": {},
   "outputs": [],
   "source": [
    "class Solution:\n",
    "    def longestCommonPrefix(self, strs: List[str]) -> str:\n",
    "        # 先考虑极端情况：\n",
    "        if len(strs) == 0 or strs is None:\n",
    "            return ''\n",
    "\n",
    "        # 假设第一个字符串是ans, 然后与第二个字符串相比较\n",
    "        # 将ans替换成二者的lcp, 然后与第三个字符串相比较，以此类推\n",
    "        ans = strs[0]\n",
    "        for i in range(1, len(strs)):\n",
    "            str_single = strs[i]\n",
    "            j = 0\n",
    "            while j < len(str_single) and j < len(ans):\n",
    "                if str_single[j] != ans[j]:\n",
    "                    break\n",
    "                j += 1\n",
    "            ans = ans[:j]\n",
    "        return ans"
   ]
  },
  {
   "cell_type": "markdown",
   "metadata": {},
   "source": [
    "### Leetcode 912: 排序算法\n",
    "\n",
    "给你一个整数数组`nums`，请你将该数组升序排列。"
   ]
  },
  {
   "cell_type": "code",
   "execution_count": 115,
   "metadata": {},
   "outputs": [],
   "source": [
    "# 冒泡排序的时间复杂度是 O(N**2), 效率较低，比较适用于大致已经是顺序的算法\n",
    "class Solution:\n",
    "    def sortArray(self, nums):\n",
    "        # 冒泡排序\n",
    "        n = len(nums) - 1\n",
    "        while n > 0:\n",
    "            swap = False\n",
    "            # 在每次子循环中找出一个最大值放在末尾\n",
    "            for i in range(0, n):\n",
    "                if nums[i] > nums[i+1]:\n",
    "                    nums[i], nums[i+1] = nums[i+1], nums[i]\n",
    "                    swap = True\n",
    "            n -= 1\n",
    "            # 如果在子循环中没有发生交换，那说明整个数列已经排好序了\n",
    "            if swap == False:\n",
    "                break\n",
    "        return nums\n",
    "\n",
    "# 桶排序时间复杂度较低，是O(N)。比较适用于 待排序数组中元素是非负整数的情况下\n",
    "class Solution:\n",
    "    def sortArray(self, nums):\n",
    "        # 桶排序\n",
    "        list_temp = [0] * 10  # 定义一个桶， 桶的大小要大于数组的最大值\n",
    "        ans_list = []\n",
    "\n",
    "        # 遍历给定数组，在list_temp计数\n",
    "        for n in nums:\n",
    "            list_temp[n] += 1\n",
    "\n",
    "        for value, count in enumerate(list_temp):\n",
    "            while count>0:\n",
    "                ans_list.append(value)\n",
    "                count -= 1\n",
    "        return ans_list\n",
    "\n",
    "# 快速排序\n",
    "class Solution:\n",
    "    def randomized_partition(self, nums, l, r):\n",
    "        pivot = random.randint(l, r)\n",
    "        while l<r:\n",
    "            # 当left指针指向的数字比pivot指向的小时，left指针向右走\n",
    "            # 当right指针指向的数字比pivot指向的小时，right指针向左走\n",
    "            # 否则二者交换，最后左右指针会重合\n",
    "            while l<r and nums[l]<nums[pivot]:\n",
    "                l += 1\n",
    "            while l<r and nums[r]>=nums[pivot]:\n",
    "                r -= 1\n",
    "            nums[l], nums[r] = nums[r], nums[l]\n",
    "        return l\n",
    "\n",
    "    def randomized_quicksort(self, nums, l, r):\n",
    "        if l >= r:\n",
    "            return\n",
    "        mid = self.randomized_partition(nums, l, r)\n",
    "        self.randomized_quicksort(nums, l, mid - 1)\n",
    "        self.randomized_quicksort(nums, mid + 1, r)\n",
    "\n",
    "    def sortArray(self, nums):\n",
    "        self.randomized_quicksort(nums, 0, len(nums) - 1)\n",
    "        return nums"
   ]
  },
  {
   "cell_type": "code",
   "execution_count": 116,
   "metadata": {},
   "outputs": [
    {
     "data": {
      "text/plain": [
       "[1, 2, 3, 5]"
      ]
     },
     "execution_count": 116,
     "metadata": {},
     "output_type": "execute_result"
    }
   ],
   "source": [
    "import random\n",
    "a = Solution()\n",
    "a.sortArray(arr)"
   ]
  },
  {
   "cell_type": "code",
   "execution_count": 8,
   "metadata": {},
   "outputs": [
    {
     "data": {
      "text/plain": [
       "['my,3',\n",
       " 'big,2',\n",
       " 'is,2',\n",
       " '12,1',\n",
       " '3th,1',\n",
       " 'am,1',\n",
       " 'because,1',\n",
       " 'ben,1',\n",
       " 'benjamin,1',\n",
       " 'but,1',\n",
       " 'call,1',\n",
       " 'friends,1',\n",
       " 'i,1',\n",
       " 'like,1',\n",
       " 'me,1',\n",
       " 'name,1',\n",
       " 'quite,1',\n",
       " 'size,1',\n",
       " 'to,1']"
      ]
     },
     "execution_count": 8,
     "metadata": {},
     "output_type": "execute_result"
    }
   ],
   "source": [
    "# 补充：处理文本，先按照词频排序，再按照字母顺序排序\n",
    "import re\n",
    "def test(str_list):\n",
    "    words = str_list.strip()\n",
    "    words = words.lower()\n",
    "    words = words.split(' ')\n",
    "    d = dict()\n",
    "    ans_list = []\n",
    "    for word in words:\n",
    "        if word in d:\n",
    "            d[word] = d[word]+1\n",
    "        else:\n",
    "            d[word] = 1\n",
    "            \n",
    "    d_sorted = {k: v for k, v in sorted(d.items(), key=lambda item:(-item[1], item[0]))}\n",
    "    for key in list(d_sorted.keys()):\n",
    "        single_str = '%s,%d'%(key, d_sorted[key])\n",
    "        ans_list.append(single_str)\n",
    "        \n",
    "    return ans_list\n",
    "  \n",
    "\n",
    "str_list = 'My name is Benjamin. I am 12. 3th. But my friends like to call me “Big Ben”, because my size is quite big'\n",
    "str_list = re.sub(r'[^\\w\\s]','',str_list)\n",
    "test(str_list)"
   ]
  },
  {
   "cell_type": "code",
   "execution_count": null,
   "metadata": {},
   "outputs": [],
   "source": []
  }
 ],
 "metadata": {
  "kernelspec": {
   "display_name": "Python 3",
   "language": "python",
   "name": "python3"
  },
  "language_info": {
   "codemirror_mode": {
    "name": "ipython",
    "version": 3
   },
   "file_extension": ".py",
   "mimetype": "text/x-python",
   "name": "python",
   "nbconvert_exporter": "python",
   "pygments_lexer": "ipython3",
   "version": "3.8.3"
  },
  "toc": {
   "base_numbering": 1,
   "nav_menu": {},
   "number_sections": true,
   "sideBar": true,
   "skip_h1_title": false,
   "title_cell": "Table of Contents",
   "title_sidebar": "Contents",
   "toc_cell": false,
   "toc_position": {},
   "toc_section_display": true,
   "toc_window_display": false
  }
 },
 "nbformat": 4,
 "nbformat_minor": 4
}
