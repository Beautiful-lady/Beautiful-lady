{
 "cells": [
  {
   "cell_type": "markdown",
   "metadata": {},
   "source": [
    "*若两个指针指向同一数组，遍历方向相同且不会相交，则也称为滑动窗口（两个指针包围的 区域即为当前的窗口），经常用于区间搜索。 若两个指针指向同一数组，但是遍历方向相反，则可以用来进行搜索，待搜索的数组往往是\n",
    "排好序的*"
   ]
  },
  {
   "cell_type": "markdown",
   "metadata": {},
   "source": [
    "### Leetcode 167. 两数之和II\n",
    "\n",
    "给定一个已按照 非递减顺序排列  的整数数组`numbers`，请你从数组中找出两个数满足相加之和等于目标数`target`。函数应该以长度为2的整数数组的形式返回这两个数的下标值。`numbers`的下标 从1开始计数 ，所以答案数组应当满足`1 <= answer[0] < answer[1] <= numbers.length`。\n",
    "你可以假设每个输入 只对应唯一的答案 ，而且你 不可以 重复使用相同的元素\n",
    "\n",
    "**时间复杂度: `O(N)`; 空间复杂度: `O(1)`**"
   ]
  },
  {
   "cell_type": "code",
   "execution_count": null,
   "metadata": {},
   "outputs": [],
   "source": [
    "class Solution:\n",
    "    def twoSum(self, numbers: List[int], target: int) -> List[int]:\n",
    "        length = len(numbers)\n",
    "        left = 0; right = length - 1\n",
    "        while left < right:\n",
    "            if numbers[left] + numbers[right] < target: # 当两数之和小于target, 左指针右移使值变大\n",
    "                left += 1\n",
    "            if numbers[left] + numbers[right] > target: # 当两数之和大于target, 右指针左移使值变小\n",
    "                right -= 1\n",
    "            if numbers[left] + numbers[right] == target:\n",
    "                return [left+1, right+1]"
   ]
  },
  {
   "cell_type": "markdown",
   "metadata": {},
   "source": [
    "### Leetcode 88: 归并两个有序数组\n",
    "\n",
    "给你两个按 非递减顺序 排列的整数数组`nums1`和`nums2`，另有两个整数`m`和`n`，分别表示`nums1`和`nums2`中的元素数目。请你 合并`nums2`到`nums1`中，使合并后的数组同样按 非递减顺序 排列。\n",
    "\n",
    "注意：最终，合并后数组不应由函数返回，而是存储在数组`nums1`中。为了应对这种情况`nums1`的初始长度为`m + n`，其中前`m`个元素表示应合并的元素，后`n`个元素为`0`，应忽略。`nums2`的长度为`n`。\n",
    "\n",
    "**时间复杂度: `O(N)`; 空间复杂度: `O(1)`**"
   ]
  },
  {
   "cell_type": "code",
   "execution_count": null,
   "metadata": {},
   "outputs": [],
   "source": [
    "# 双指针算法：\n",
    "class Solution:\n",
    "    def merge(self, nums1: List[int], m: int, nums2: List[int], n: int) -> None:\n",
    "        \"\"\"\n",
    "        Do not return anything, modify nums1 in-place instead.\n",
    "        \"\"\"\n",
    "        p1 = m - 1  # 指向 nums1 中非0部分的末端\n",
    "        p2 = n - 1  # 指向 nums2 末端\n",
    "        p3 = m + n - 1  # 指向 nums1 末端\n",
    "\n",
    "        while p2 >= 0:  # nums2 未遍历完是大前提\n",
    "            if (p1>=0 and nums1[p1] > nums2[p2]):  # 当 nums1 未遍历完且 nums1 尾部较大时，交换 nums1 末尾数字\n",
    "                    nums1[p1], nums1[p3] = nums1[p3], nums1[p1]\n",
    "                    p1 -= 1\n",
    "            else:                                  # 如果 nums1 已经遍历完了 nums2 中还有，则可以直接加进来，因为都是排好序的\n",
    "                nums2[p2], nums1[p3] = nums1[p3], nums2[p2]\n",
    "                p2 -= 1\n",
    "            p3 -= 1"
   ]
  },
  {
   "cell_type": "markdown",
   "metadata": {},
   "source": [
    "### Leetcode 142: 环形链表\n",
    "\n",
    "给定一个链表，返回链表开始入环的第一个节点。 如果链表无环，则返回`null`。\n",
    "如果链表中有某个节点，可以通过连续跟踪`next`指针再次到达，则链表中存在环。 为了表示给定链表中的环，评测系统内部使用整数`pos`来表示链表尾连接到链表中的位置（索引从`0`开始）。如果`pos`是`-1`，则在该链表中没有环。注意: `pos`不作为参数进行传递，仅仅是为了标识链表的实际情况。不允许修改 链表\n",
    "\n",
    "时间复杂度: `O(N)`; 空间复杂度: `O(1)`"
   ]
  },
  {
   "cell_type": "code",
   "execution_count": null,
   "metadata": {},
   "outputs": [],
   "source": [
    "# 快慢指针\n",
    "class Solution:\n",
    "    def detectCycle(self, head: ListNode) -> ListNode:\n",
    "        fast, slow = head, head\n",
    "        \n",
    "        # slow 指针每次前进一步，fast指针每次前进两步，直到二者第一次相遇时停下\n",
    "        while True:  \n",
    "            if not (fast and fast.next): \n",
    "                return None \n",
    "            slow, fast = slow.next, fast.next.next\n",
    "            if slow == fast: \n",
    "                break\n",
    "                \n",
    "        fast = head\n",
    "\n",
    "        # fast 回到起点，两个指针都每次各走一步，第二次相遇的位置就是环的入口\n",
    "        while fast != slow:\n",
    "            slow, fast = slow.next, fast.next\n",
    "\n",
    "        return fast"
   ]
  },
  {
   "cell_type": "markdown",
   "metadata": {},
   "source": [
    "证明：\n",
    "* 第一次相遇：`f = 2s`，fast指针走过的步数总是slow指针的两倍。`f = s + nb`， `n`指相遇时fast指针比slow指针多走的环数，`b`是环长。 所以`s = nb`。然后fast回到起点\n",
    "* 第二次相遇：fast回到起点，当fast走了`a`步时， slow走了`a + nb`步，二者相遇。相遇的地点正好是环的入口。"
   ]
  },
  {
   "cell_type": "markdown",
   "metadata": {},
   "source": [
    "### Leetcode 76: 最小覆盖子串\n",
    "\n",
    "给你一个字符串`s`、一个字符串`t`。返回`s`中涵盖`t`所有字符的最小子串。如果`s`中不存在涵盖`t`所有字符的子串，则返回空字符串`\"\"`。\n",
    "\n",
    "注意：\n",
    "\n",
    "* 对于`t`中重复字符，我们寻找的子字符串中该字符数量必须不少于`t`中该字符数量。\n",
    "* 如果`s`中存在这样的子串，我们保证它是唯一的答案\n",
    "\n",
    "时间复杂度: `O(N)`, 空间复杂度: `O(K)`, `K = len(s) + len(t)`。 [滑动窗口](https://leetcode-cn.com/problems/minimum-window-substring/solution/tong-su-qie-xiang-xi-de-miao-shu-hua-dong-chuang-k/)"
   ]
  },
  {
   "cell_type": "code",
   "execution_count": 1,
   "metadata": {},
   "outputs": [],
   "source": [
    "def minWindow(s, t):\n",
    "    target = collections.defaultdict(int)\n",
    "    for char in t:  # 先统计出我们需要什么字符， 以及需要多少个\n",
    "        target[char] += 1\n",
    "\n",
    "    target_cnt = len(t)\n",
    "    left = 0\n",
    "    res = (0, float('inf'))\n",
    "\n",
    "    for right, char in enumerate(s):  # step 1: 不断扩大右窗口，直到窗口包含了所有的 t 中字符\n",
    "        if target[char] > 0:  # 说明我们现在需要这个元素\n",
    "            target_cnt -= 1  #  找到的一个需要的，那么target_cnt - 1\n",
    "        target[char] -= 1  \n",
    "\n",
    "        if target_cnt == 0:  # 找到了所有需要的元素\n",
    "            while True:     # step 2: 不断缩小左窗口，找到最小的符合条件的窗口\n",
    "                c = s[left]\n",
    "                if target[c] == 0:  # 找到最小窗口的条件: 某元素还需要0个，不能再多了\n",
    "                    break\n",
    "                target[c] += 1;  left += 1 # 否则缩小窗口\n",
    "\n",
    "            if right - left < res[1] - res[0]: # 当本次找到的最小窗口小于上一次记录时，替换记录\n",
    "                res = [left, right]\n",
    "\n",
    "    return '' if res[1] >= len(s) else s[res[0]:res[1]+1]\n"
   ]
  },
  {
   "cell_type": "markdown",
   "metadata": {},
   "source": [
    "### Leetcode 633: 平方数之和\n",
    "\n",
    "给定一个非负整数`c`，你要判断是否存在两个整数`a`和`b`，使得`a2 + b2 = c`\n",
    "\n",
    "时间复杂度: `O(c根号)`, 空间复杂度: `O(1)`"
   ]
  },
  {
   "cell_type": "code",
   "execution_count": 1,
   "metadata": {},
   "outputs": [],
   "source": [
    "def judgeSquareSum(c):\n",
    "    # 双指针， a 从 0 开始往右， b 从 c根号 开始往左\n",
    "    a = 0  \n",
    "    b = int(math.sqrt(c))   # b 不可能大于c的根号, 但是有可能等于(c=9比如)\n",
    "                            # 记得 a, b 都是整数！！！\n",
    "    while a <= b:\n",
    "        num = a*a + b*b\n",
    "        if num == c:\n",
    "            return True\n",
    "        if num < c:\n",
    "            a += 1\n",
    "        if num > c:\n",
    "            b -= 1\n",
    "\n",
    "    return False"
   ]
  },
  {
   "cell_type": "markdown",
   "metadata": {},
   "source": [
    "### Leetcode 680: 验证回文字符串\n",
    "\n",
    "给定一个非空字符串`s`，最多删除一个字符。判断是否能成为回文字符串。"
   ]
  },
  {
   "cell_type": "code",
   "execution_count": 9,
   "metadata": {},
   "outputs": [],
   "source": [
    "def validPalindrome(s):\n",
    "    # 时间复杂度： O(N), N是s的长度\n",
    "    # 空间复杂度： O(1)\n",
    "    def checkPalindrome(left, right):\n",
    "        while left <= right:\n",
    "            if s[left] == s[right]:\n",
    "                left += 1\n",
    "                right -= 1\n",
    "            else:\n",
    "                return False\n",
    "        return True\n",
    "    \n",
    "    left, right = 0, len(s)-1\n",
    "    while left <= right:\n",
    "        if s[left] == s[right]:\n",
    "            left += 1\n",
    "            right -= 1\n",
    "        else:\n",
    "            return True if checkPalindrome(left+1, right) or checkPalindrome(left, right-1) else False\n",
    "    return True"
   ]
  },
  {
   "cell_type": "markdown",
   "metadata": {},
   "source": [
    "二者的解题思路其实是一样的，都是从两边开始遍历字符串，遇到不一样的两个字符停下，删去其中一个，看剩下的是否是回文字符串"
   ]
  },
  {
   "cell_type": "code",
   "execution_count": 1,
   "metadata": {},
   "outputs": [],
   "source": [
    "# 高效很多！！！\n",
    "def validPalindrome(self, s: str) -> bool:\n",
    "    \n",
    "    if s == s[::-1]:\n",
    "        return True\n",
    "\n",
    "    left, right = 0, len(s)-1\n",
    "    while left <= right:\n",
    "        if s[left] == s[right]:\n",
    "            left += 1; right -= 1\n",
    "        else:\n",
    "            return s[left+1:right+1] == s[left+1:right+1][::-1] or s[left:right] == s[left: right][::-1] #注意下标"
   ]
  },
  {
   "cell_type": "markdown",
   "metadata": {},
   "source": [
    "### Leetcode 209: 长度最小的子数组\n",
    "\n",
    "给定一个含有`n`个正整数的数组和一个正整数`target`。\n",
    "\n",
    "找出该数组中满足其和`≥ target`的长度最小的 连续子数组`[numsl, numsl+1, ..., numsr-1, numsr]`，并返回其长度。如果不存在符合条件的子数组，返回`0`\n",
    "\n",
    "时间复杂度: `O(n)`; 空间复杂度: `O(1)`"
   ]
  },
  {
   "cell_type": "code",
   "execution_count": 13,
   "metadata": {},
   "outputs": [],
   "source": [
    "# 思路：先右移右指针，左指针不动，当和大于等于target是，记录长度。然后右指针不动，右移左指针，到和小于target，每次都记录长度\n",
    "# 一定要看清条件再做！！！\n",
    "class Solution:\n",
    "    def minSubArrayLen(self, target: int, nums: List[int]) -> int:\n",
    "        left, right = 0, 0\n",
    "        length = 0\n",
    "        sums = 0\n",
    "        while right <= len(nums)-1:\n",
    "            sums = sums + nums[right]\n",
    "            while sums >= target:\n",
    "                len_temp = right-left+1\n",
    "                length = min(length, len_temp) if length != 0 else len_temp\n",
    "                sums = sums-nums[left]; left += 1\n",
    "            right += 1\n",
    "        return length"
   ]
  },
  {
   "cell_type": "markdown",
   "metadata": {},
   "source": [
    "### Leetcode 1456:  定长子串中元音的最大数目\n",
    "给你字符串`s`和整数`k`。请返回字符串`s`中长度为`k`的单个子字符串中可能包含的最大元音字母数。\n",
    "\n",
    "时间复杂度：`O(N)`, 空间复杂度：`O(1)`."
   ]
  },
  {
   "cell_type": "code",
   "execution_count": 27,
   "metadata": {},
   "outputs": [],
   "source": [
    "# 滑动窗口\n",
    "# 窗口长度固定为 K\n",
    "# 右指针右移，遇到元音counter+1; 左指针右移，遇到元音counter-1\n",
    "class Solution:\n",
    "    def maxVowels(self, s: str, k: int) -> int:\n",
    "        left, right = 0, 0\n",
    "        final_count = 0\n",
    "        counter = 0\n",
    "        target = ['a', 'e', 'i', 'o', 'u']\n",
    "        while right < len(s):\n",
    "            if s[right] in target: counter += 1\n",
    "            if right-left >= k-1:\n",
    "                final_count = max(final_count, counter)\n",
    "                if s[left] in target: counter -= 1\n",
    "                left += 1      \n",
    "            right += 1\n",
    "        return final_count"
   ]
  },
  {
   "cell_type": "code",
   "execution_count": 31,
   "metadata": {},
   "outputs": [
    {
     "data": {
      "text/plain": [
       "[1, 2, 3]"
      ]
     },
     "execution_count": 31,
     "metadata": {},
     "output_type": "execute_result"
    }
   ],
   "source": [
    "a = [1,2,3]\n",
    "a[0:3]"
   ]
  },
  {
   "cell_type": "code",
   "execution_count": null,
   "metadata": {},
   "outputs": [],
   "source": []
  }
 ],
 "metadata": {
  "kernelspec": {
   "display_name": "Python 3",
   "language": "python",
   "name": "python3"
  },
  "language_info": {
   "codemirror_mode": {
    "name": "ipython",
    "version": 3
   },
   "file_extension": ".py",
   "mimetype": "text/x-python",
   "name": "python",
   "nbconvert_exporter": "python",
   "pygments_lexer": "ipython3",
   "version": "3.8.3"
  },
  "toc": {
   "base_numbering": 1,
   "nav_menu": {},
   "number_sections": true,
   "sideBar": true,
   "skip_h1_title": false,
   "title_cell": "Table of Contents",
   "title_sidebar": "Contents",
   "toc_cell": false,
   "toc_position": {},
   "toc_section_display": true,
   "toc_window_display": false
  }
 },
 "nbformat": 4,
 "nbformat_minor": 4
}
