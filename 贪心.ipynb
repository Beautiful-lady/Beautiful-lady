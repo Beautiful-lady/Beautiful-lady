{
 "cells": [
  {
   "cell_type": "markdown",
   "metadata": {},
   "source": [
    "### Leetcode 455: 分发饼干\n",
    "\n",
    "假设你是一位很棒的家长，想要给你的孩子们一些小饼干。但是，每个孩子最多只能给一块饼干。\n",
    "\n",
    "对每个孩子`i`，都有一个胃口值`g[i]`，这是能让孩子们满足胃口的饼干的最小尺寸；并且每块饼干`j`，都有一个尺寸`s[j]`。如果`s[j] >= g[i]`，我们可以将这个饼干`j`分配给孩子`i`，这个孩子会得到满足。你的目标是尽可能满足越多数量的孩子，并输出这个最大数值。\n"
   ]
  },
  {
   "cell_type": "code",
   "execution_count": null,
   "metadata": {},
   "outputs": [],
   "source": [
    "# 先尽可能满足胃口较小的孩子， 让满足胃口的饼干尽可能小\n",
    "class Solution:\n",
    "    def findContentChildren(self, g: List[int], s: List[int]) -> int:\n",
    "        # TC: O(NlogN)\n",
    "        # SC: O(1)\n",
    "        g.sort(); s.sort() #  先给孩子胃口和饼干大小 排序 \n",
    "        child = 0; cookie = 0\n",
    "        while cookie < len(s) and child < len(g):\n",
    "            if g[child] <= s[cookie]:\n",
    "                child += 1            \n",
    "            cookie += 1\n",
    "        \n",
    "        return child"
   ]
  },
  {
   "cell_type": "markdown",
   "metadata": {},
   "source": [
    "### Leetcode 135: 分发糖果\n",
    "`n`个孩子站成一排。给你一个整数数组`ratings`表示每个孩子的评分。你需要按照以下要求，给这些孩子分发糖果：\n",
    "\n",
    "每个孩子至少分配到`1`个糖果。\n",
    "相邻两个孩子评分更高的孩子会获得更多的糖果。\n",
    "请你给每个孩子分发糖果，计算并返回需要准备的 最少糖果数目\n",
    "\n",
    "时间复杂度: `O(N)`, 空间复杂度: `O(N)`"
   ]
  },
  {
   "cell_type": "code",
   "execution_count": null,
   "metadata": {},
   "outputs": [],
   "source": [
    "class Solution: # 局部最优\n",
    "    def candy(self, ratings: List[int]) -> int:\n",
    "\n",
    "        n = len(ratings)\n",
    "        nums = [1] * n  # 先给所有孩子分配一个\n",
    "\n",
    "        for i in range(0, n-1):  # 先从左到右遍历\n",
    "            if ratings[i+1] > ratings[i]: # 右边如果较大\n",
    "                nums[i+1] = nums[i] + 1  # 那么右边等于左边糖果数加1\n",
    "\n",
    "        for i in range(n-1, 0, -1):  # 从右向左遍历一遍， 同理\n",
    "            if ratings[i-1] > ratings[i] and nums[i-1] <= nums[i]:\n",
    "                nums[i-1] = nums[i] + 1  # 但是多一个条件， 就是左边糖果数要小于等于右边糖果数才能进行加一\n",
    "\n",
    "        return sum(nums)"
   ]
  },
  {
   "cell_type": "markdown",
   "metadata": {},
   "source": [
    "### Leetcode 435: 无重叠区间\n",
    "给定一个区间的集合，找到需要移除区间的最小数量，使剩余区间互不重叠。\n",
    "\n",
    "1. 可以认为区间的终点总是大于它的起点。\n",
    "2. 区`[1,2]`和`[2,3]`的边界相互“接触”，但没有相互重叠。\n",
    "\n",
    "时间复杂度: `O(NlogN)`, 空间复杂度: `O(N)`"
   ]
  },
  {
   "cell_type": "code",
   "execution_count": 2,
   "metadata": {},
   "outputs": [],
   "source": [
    "# 需要移除的区间数量尽量小，也可以理解成需要保留的区间数量尽量多\n",
    "# 因此先按照右侧区间进行排序\n",
    "# (第一个)左侧始于哪里不重要，保证选到一个最小的右区间即可。后面的左侧只要大于上一个右侧即可\n",
    "class Solution:\n",
    "    def eraseOverlapIntervals(self, intervals: List[List[int]]) -> int:\n",
    "        \n",
    "        intervals.sort(key = lambda x: x[1]) # 按区间结尾进行排序\n",
    "        length = len(intervals)\n",
    "        legal_intervals = intervals[0]  # 将第一个区间初始为 最终有效区间\n",
    "        intervals_removed = 0\n",
    "        \n",
    "        for i in range(1, length):  # 判断合法区间的依据\n",
    "            if intervals[i][0] >= legal_intervals[-1]:   # 区间开头元素要大于等于 合法区间末尾元素\n",
    "                legal_intervals = legal_intervals + intervals[i]\n",
    "            else:\n",
    "                intervals_removed += 1\n",
    "        \n",
    "        return intervals_removed"
   ]
  },
  {
   "cell_type": "markdown",
   "metadata": {},
   "source": [
    "### Leetcode 605: 种花问题\n",
    "假设有一个很长的花坛，一部分地块种植了花，另一部分却没有。可是，花不能种植在相邻的地块上，它们会争夺水源，两者都会死去。\n",
    "\n",
    "给你一个整数数组`flowerbed`表示花坛，由若干`0`和`1`组成，其中`0`表示没种植花`1`表示种植了花。另有一个数`n`，能否在不打破种植规则的情况下种入`n`朵花？能则返回`true`，不能则返回`false`。  非常棒的[跳格子法](https://leetcode-cn.com/problems/can-place-flowers/solution/fei-chang-jian-dan-de-tiao-ge-zi-jie-fa-nhzwc/)\n",
    "\n",
    "时间复杂度: `O(N)`, 空间复杂度: `O(N)`"
   ]
  },
  {
   "cell_type": "code",
   "execution_count": 16,
   "metadata": {},
   "outputs": [],
   "source": [
    "# 防御性编程思想， 给花坛两端各加上0\n",
    "class Solution:\n",
    "    def canPlaceFlowers(self, flowerbed: List[int], n: int) -> bool:\n",
    "        tmp = [0]+flowerbed+[0]\n",
    "        for i in range(1, len(tmp)-1):\n",
    "            if tmp[i-1] == 0 and tmp[i] == 0 and tmp[i+1] == 0:\n",
    "                tmp[i] = 1 \n",
    "                n -= 1   \n",
    "        return n <= 0 "
   ]
  },
  {
   "cell_type": "code",
   "execution_count": null,
   "metadata": {},
   "outputs": [],
   "source": [
    "# 实现跳格子法：\n",
    "\n",
    "class Solution:\n",
    "    def canPlaceFlowers(self, flowerbed: List[int], n: int) -> bool:\n",
    "\n",
    "        length = len(flowerbed)\n",
    "        index = 0\n",
    "\n",
    "        while index <= length-1:\n",
    "            if flowerbed[index] == 1:\n",
    "                index += 2\n",
    "            elif flowerbed[index+1] == 1:\n",
    "                if index + 1 == length or flowerbed[index+1] == 0:\n",
    "                    flowerbed[index] = 1\n",
    "                    index += 2\n",
    "                    n -= 1\n",
    "                else:\n",
    "                    index += 3\n",
    "\n",
    "        return True if n <= 0 else False"
   ]
  },
  {
   "cell_type": "markdown",
   "metadata": {},
   "source": [
    "### Leetcode 452: 用最少数量的箭引爆气球\n",
    "在二维空间中有许多球形的气球。对于每个气球，提供的输入是水平方向上，气球直径的开始和结束坐标。由于它是水平的，所以纵坐标并不重要，因此只要知道开始和结束的横坐标就足够了。开始坐标总是小于结束坐标。\n",
    "\n",
    "一支弓箭可以沿着`x`轴从不同点完全垂直地射出。在坐标`x`处射出一支箭，若有一个气球的直径的开始和结束坐标为`xstart``xend`， 且满足  `xstart ≤ x ≤ xend`，则该气球会被引爆。可以射出的弓箭的数量没有限制。 弓箭一旦被射出之后，可以无限地前进。我们想找到使得所有气球全部被引爆，所需的弓箭的最小数量。\n",
    "\n",
    "给你一个数组`points`，其中`points [i] = [xstart,xend]`，返回引爆所有气球所必须射出的最小弓箭数。\n",
    "\n",
    "时间复杂度：`O(NlogN)`, 空间复杂度：`O(logn)`，即为排序需要使用的栈空间"
   ]
  },
  {
   "cell_type": "code",
   "execution_count": 42,
   "metadata": {},
   "outputs": [],
   "source": [
    "def findMinArrowShots(points):\n",
    "    # 为了射到尽可能多的气球，把气球按照左侧位置排序\n",
    "    # 射出的箭在当前气球的最左侧\n",
    "    # 一旦当前气球左侧够不到 当前最小右侧位置， 新产生一支箭， 将右侧位置重置为当前气球右侧位置\n",
    "    points.sort(key = lambda x: x[0])\n",
    "    length = len(points)\n",
    "    arrows = 1\n",
    "    arrows_point = points[0][0]  # 箭的位置\n",
    "    end = points[0][1]\n",
    "\n",
    "    for i in range(1, length):\n",
    "        arrows_point = points[i][0]\n",
    "\n",
    "        if points[i][0] <= end:\n",
    "            end = min(end, points[i][1])\n",
    "        else:\n",
    "            arrows += 1\n",
    "            end = points[i][1]\n",
    "\n",
    "    return arrows"
   ]
  },
  {
   "cell_type": "code",
   "execution_count": 43,
   "metadata": {},
   "outputs": [
    {
     "data": {
      "text/plain": [
       "2"
      ]
     },
     "execution_count": 43,
     "metadata": {},
     "output_type": "execute_result"
    }
   ],
   "source": [
    "findMinArrowShots([[3,9],[7,12],[3,8],[6,8],[9,10],[2,9],[0,9],[3,9],[0,6],[2,8]])"
   ]
  },
  {
   "cell_type": "markdown",
   "metadata": {},
   "source": [
    "### Leetcode 763: 划分字母区间\n",
    "\n",
    "字符串`S`由小写字母组成。我们要把这个字符串划分为尽可能多的片段，同一字母最多出现在一个片段中。返回一个表示每个字符串片段的长度的列表"
   ]
  },
  {
   "cell_type": "code",
   "execution_count": null,
   "metadata": {},
   "outputs": [],
   "source": [
    "class Solution:\n",
    "    def partitionLabels(self, s: str) -> List[int]:\n",
    "        last = [0] * 26\n",
    "        for i, ch in enumerate(s):\n",
    "            last[ord(ch) - ord(\"a\")] = i # 用长度为26的哈希表(数组)来统计每个字母结束的位置\n",
    "        \n",
    "        partition = list()\n",
    "        start = end = 0\n",
    "        for i, ch in enumerate(s):  # 如果 当前遍历到的元素的结束位置更大(但是还没有到end) \n",
    "            end = max(end, last[ord(ch) - ord(\"a\")])  # 这时就需要扩大这一子区间\n",
    "            if i == end:   # 找到一个区间\n",
    "                partition.append(end - start + 1)\n",
    "                start = end + 1\n",
    "        \n",
    "        return partition\n",
    "    \n",
    "# 第二种方法： 找到每个字母开始和结束的位置，然后就和 56 题的思路一样了。\n",
    "#intervals = []\n",
    "#for i in range(0, 26):\n",
    "#    if S.count(chr(ord(\"a\") + i)):\n",
    "#        intervals.append([S.find(chr(ord(\"a\") + i)), S.rfind(chr(ord(\"a\") + i))])"
   ]
  },
  {
   "cell_type": "markdown",
   "metadata": {},
   "source": [
    "**Leetcode 56: 合并区间**\n",
    "\n",
    "以数组`intervals`表示若干个区间的集合，其中单个区间为`intervals[i] = [starti, endi]`。请你合并所有重叠的区间，并返回一个不重叠的区间数组，该数组需恰好覆盖输入中的所有区间。"
   ]
  },
  {
   "cell_type": "code",
   "execution_count": null,
   "metadata": {},
   "outputs": [],
   "source": [
    "class Solution:\n",
    "    def merge(self, intervals: List[List[int]]) -> List[List[int]]:\n",
    "        # TC: O(NlogN)\n",
    "        # SC: O(N)\n",
    "        intervals.sort(key = lambda x: x[0]) # 先按照区间开头进行排序\n",
    "        merged = []\n",
    "        for i in intervals:\n",
    "            if not merged or merged[-1][1] < i[0]: # 如果merged 是空的或不满足合并要求，就直接加进来\n",
    "                merged.append(i)\n",
    "            else:\n",
    "                merged[-1][1] = max(merged[-1][1], i[1])\n",
    "        return merged"
   ]
  },
  {
   "cell_type": "markdown",
   "metadata": {},
   "source": [
    "### Leetcode 122: 买卖股票的最佳时机\n",
    "\n",
    "给定一个数组`prices`，其中`prices[i]`是一支给定股票第`i`天的价格。设计一个算法来计算你所能获取的最大利润。你可以尽可能地完成更多的交易（多次买卖一支股票）。\n",
    "\n",
    "注意：你不能同时参与多笔交易（你必须在再次购买前出售掉之前的股票) (但是可以在同一天买卖股票！！！)\n",
    "\n",
    "时间复杂度: `O(N)`; 空间复杂度: `O(1)`"
   ]
  },
  {
   "cell_type": "code",
   "execution_count": null,
   "metadata": {},
   "outputs": [],
   "source": [
    "# 这道题的贪心策略是：只要今天的股价高于昨天的就算作利润\n",
    "# 计算所有股价差值， 只加正数\n",
    "class Solution:\n",
    "    def maxProfit(self, prices: List[int]) -> int:\n",
    "        length = len(prices)\n",
    "        profit_all = 0\n",
    "        for i in range(1, length):\n",
    "            profit_per_day = prices[i] - prices[i-1]\n",
    "            if profit_per_day > 0:\n",
    "                profit_all = profit_all + profit_per_day\n",
    "        return profit_all"
   ]
  }
 ],
 "metadata": {
  "kernelspec": {
   "display_name": "Python 3",
   "language": "python",
   "name": "python3"
  },
  "language_info": {
   "codemirror_mode": {
    "name": "ipython",
    "version": 3
   },
   "file_extension": ".py",
   "mimetype": "text/x-python",
   "name": "python",
   "nbconvert_exporter": "python",
   "pygments_lexer": "ipython3",
   "version": "3.8.3"
  },
  "toc": {
   "base_numbering": 1,
   "nav_menu": {},
   "number_sections": true,
   "sideBar": true,
   "skip_h1_title": false,
   "title_cell": "Table of Contents",
   "title_sidebar": "Contents",
   "toc_cell": false,
   "toc_position": {},
   "toc_section_display": true,
   "toc_window_display": false
  }
 },
 "nbformat": 4,
 "nbformat_minor": 4
}
